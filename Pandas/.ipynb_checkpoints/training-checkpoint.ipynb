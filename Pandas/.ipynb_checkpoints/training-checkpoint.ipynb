{
 "cells": [
  {
   "cell_type": "code",
   "execution_count": 1,
   "metadata": {},
   "outputs": [],
   "source": [
    "import pandas as pd\n",
    "import numpy as np"
   ]
  },
  {
   "cell_type": "code",
   "execution_count": 2,
   "metadata": {},
   "outputs": [],
   "source": [
    "# Pandas 数据处理工具  2008年\n",
    "# Panel + data + Analysis\n",
    "\n",
    "# dataframe : 既有行索引，又有列索引的二维数组\n",
    "# panel\n",
    "# Series"
   ]
  },
  {
   "cell_type": "code",
   "execution_count": 3,
   "metadata": {},
   "outputs": [
    {
     "data": {
      "text/plain": [
       "array([[-0.941162  , -0.92358381, -0.77555565,  1.14317837,  0.15102403],\n",
       "       [-0.40935521,  0.74842182, -1.04478714, -0.36781009, -0.62163599],\n",
       "       [-0.20691062, -0.17903267,  0.01320877, -0.73138344,  0.06565432],\n",
       "       [-0.30387187, -0.52328741, -1.55843589, -1.27876923, -0.3057923 ],\n",
       "       [-0.42499041,  0.27395973,  0.80381744, -1.20747345, -0.33967782],\n",
       "       [-1.07231586,  0.2969242 ,  0.11566751, -1.25655088, -0.70883973],\n",
       "       [ 0.64319569,  2.22797008, -0.74488763,  0.09785897,  1.42038713],\n",
       "       [ 0.28821583, -0.44378612, -1.05953383,  0.29417604, -1.30915253],\n",
       "       [ 1.342     , -0.07221205, -0.01581974,  1.21950732,  0.25033527],\n",
       "       [ 0.94504351, -0.23562996,  1.13255372,  0.4787558 ,  0.60940236]])"
      ]
     },
     "execution_count": 3,
     "metadata": {},
     "output_type": "execute_result"
    }
   ],
   "source": [
    "stock_change = np.random.normal(0, 1, (10, 5))\n",
    "stock_change"
   ]
  },
  {
   "cell_type": "code",
   "execution_count": 4,
   "metadata": {},
   "outputs": [],
   "source": [
    "df = pd.DataFrame(stock_change)"
   ]
  },
  {
   "cell_type": "code",
   "execution_count": 5,
   "metadata": {},
   "outputs": [
    {
     "data": {
      "text/html": [
       "<div>\n",
       "<style scoped>\n",
       "    .dataframe tbody tr th:only-of-type {\n",
       "        vertical-align: middle;\n",
       "    }\n",
       "\n",
       "    .dataframe tbody tr th {\n",
       "        vertical-align: top;\n",
       "    }\n",
       "\n",
       "    .dataframe thead th {\n",
       "        text-align: right;\n",
       "    }\n",
       "</style>\n",
       "<table border=\"1\" class=\"dataframe\">\n",
       "  <thead>\n",
       "    <tr style=\"text-align: right;\">\n",
       "      <th></th>\n",
       "      <th>0</th>\n",
       "      <th>1</th>\n",
       "      <th>2</th>\n",
       "      <th>3</th>\n",
       "      <th>4</th>\n",
       "    </tr>\n",
       "  </thead>\n",
       "  <tbody>\n",
       "    <tr>\n",
       "      <th>0</th>\n",
       "      <td>-0.941162</td>\n",
       "      <td>-0.923584</td>\n",
       "      <td>-0.775556</td>\n",
       "      <td>1.143178</td>\n",
       "      <td>0.151024</td>\n",
       "    </tr>\n",
       "    <tr>\n",
       "      <th>1</th>\n",
       "      <td>-0.409355</td>\n",
       "      <td>0.748422</td>\n",
       "      <td>-1.044787</td>\n",
       "      <td>-0.367810</td>\n",
       "      <td>-0.621636</td>\n",
       "    </tr>\n",
       "    <tr>\n",
       "      <th>2</th>\n",
       "      <td>-0.206911</td>\n",
       "      <td>-0.179033</td>\n",
       "      <td>0.013209</td>\n",
       "      <td>-0.731383</td>\n",
       "      <td>0.065654</td>\n",
       "    </tr>\n",
       "    <tr>\n",
       "      <th>3</th>\n",
       "      <td>-0.303872</td>\n",
       "      <td>-0.523287</td>\n",
       "      <td>-1.558436</td>\n",
       "      <td>-1.278769</td>\n",
       "      <td>-0.305792</td>\n",
       "    </tr>\n",
       "    <tr>\n",
       "      <th>4</th>\n",
       "      <td>-0.424990</td>\n",
       "      <td>0.273960</td>\n",
       "      <td>0.803817</td>\n",
       "      <td>-1.207473</td>\n",
       "      <td>-0.339678</td>\n",
       "    </tr>\n",
       "    <tr>\n",
       "      <th>5</th>\n",
       "      <td>-1.072316</td>\n",
       "      <td>0.296924</td>\n",
       "      <td>0.115668</td>\n",
       "      <td>-1.256551</td>\n",
       "      <td>-0.708840</td>\n",
       "    </tr>\n",
       "    <tr>\n",
       "      <th>6</th>\n",
       "      <td>0.643196</td>\n",
       "      <td>2.227970</td>\n",
       "      <td>-0.744888</td>\n",
       "      <td>0.097859</td>\n",
       "      <td>1.420387</td>\n",
       "    </tr>\n",
       "    <tr>\n",
       "      <th>7</th>\n",
       "      <td>0.288216</td>\n",
       "      <td>-0.443786</td>\n",
       "      <td>-1.059534</td>\n",
       "      <td>0.294176</td>\n",
       "      <td>-1.309153</td>\n",
       "    </tr>\n",
       "    <tr>\n",
       "      <th>8</th>\n",
       "      <td>1.342000</td>\n",
       "      <td>-0.072212</td>\n",
       "      <td>-0.015820</td>\n",
       "      <td>1.219507</td>\n",
       "      <td>0.250335</td>\n",
       "    </tr>\n",
       "    <tr>\n",
       "      <th>9</th>\n",
       "      <td>0.945044</td>\n",
       "      <td>-0.235630</td>\n",
       "      <td>1.132554</td>\n",
       "      <td>0.478756</td>\n",
       "      <td>0.609402</td>\n",
       "    </tr>\n",
       "  </tbody>\n",
       "</table>\n",
       "</div>"
      ],
      "text/plain": [
       "          0         1         2         3         4\n",
       "0 -0.941162 -0.923584 -0.775556  1.143178  0.151024\n",
       "1 -0.409355  0.748422 -1.044787 -0.367810 -0.621636\n",
       "2 -0.206911 -0.179033  0.013209 -0.731383  0.065654\n",
       "3 -0.303872 -0.523287 -1.558436 -1.278769 -0.305792\n",
       "4 -0.424990  0.273960  0.803817 -1.207473 -0.339678\n",
       "5 -1.072316  0.296924  0.115668 -1.256551 -0.708840\n",
       "6  0.643196  2.227970 -0.744888  0.097859  1.420387\n",
       "7  0.288216 -0.443786 -1.059534  0.294176 -1.309153\n",
       "8  1.342000 -0.072212 -0.015820  1.219507  0.250335\n",
       "9  0.945044 -0.235630  1.132554  0.478756  0.609402"
      ]
     },
     "execution_count": 5,
     "metadata": {},
     "output_type": "execute_result"
    }
   ],
   "source": [
    "df"
   ]
  },
  {
   "cell_type": "code",
   "execution_count": 6,
   "metadata": {},
   "outputs": [],
   "source": [
    "stock = ['股票{}'.format(i) for i in range(10)]"
   ]
  },
  {
   "cell_type": "code",
   "execution_count": 7,
   "metadata": {},
   "outputs": [
    {
     "data": {
      "text/html": [
       "<div>\n",
       "<style scoped>\n",
       "    .dataframe tbody tr th:only-of-type {\n",
       "        vertical-align: middle;\n",
       "    }\n",
       "\n",
       "    .dataframe tbody tr th {\n",
       "        vertical-align: top;\n",
       "    }\n",
       "\n",
       "    .dataframe thead th {\n",
       "        text-align: right;\n",
       "    }\n",
       "</style>\n",
       "<table border=\"1\" class=\"dataframe\">\n",
       "  <thead>\n",
       "    <tr style=\"text-align: right;\">\n",
       "      <th></th>\n",
       "      <th>0</th>\n",
       "      <th>1</th>\n",
       "      <th>2</th>\n",
       "      <th>3</th>\n",
       "      <th>4</th>\n",
       "    </tr>\n",
       "  </thead>\n",
       "  <tbody>\n",
       "    <tr>\n",
       "      <th>股票0</th>\n",
       "      <td>-0.941162</td>\n",
       "      <td>-0.923584</td>\n",
       "      <td>-0.775556</td>\n",
       "      <td>1.143178</td>\n",
       "      <td>0.151024</td>\n",
       "    </tr>\n",
       "    <tr>\n",
       "      <th>股票1</th>\n",
       "      <td>-0.409355</td>\n",
       "      <td>0.748422</td>\n",
       "      <td>-1.044787</td>\n",
       "      <td>-0.367810</td>\n",
       "      <td>-0.621636</td>\n",
       "    </tr>\n",
       "    <tr>\n",
       "      <th>股票2</th>\n",
       "      <td>-0.206911</td>\n",
       "      <td>-0.179033</td>\n",
       "      <td>0.013209</td>\n",
       "      <td>-0.731383</td>\n",
       "      <td>0.065654</td>\n",
       "    </tr>\n",
       "    <tr>\n",
       "      <th>股票3</th>\n",
       "      <td>-0.303872</td>\n",
       "      <td>-0.523287</td>\n",
       "      <td>-1.558436</td>\n",
       "      <td>-1.278769</td>\n",
       "      <td>-0.305792</td>\n",
       "    </tr>\n",
       "    <tr>\n",
       "      <th>股票4</th>\n",
       "      <td>-0.424990</td>\n",
       "      <td>0.273960</td>\n",
       "      <td>0.803817</td>\n",
       "      <td>-1.207473</td>\n",
       "      <td>-0.339678</td>\n",
       "    </tr>\n",
       "    <tr>\n",
       "      <th>股票5</th>\n",
       "      <td>-1.072316</td>\n",
       "      <td>0.296924</td>\n",
       "      <td>0.115668</td>\n",
       "      <td>-1.256551</td>\n",
       "      <td>-0.708840</td>\n",
       "    </tr>\n",
       "    <tr>\n",
       "      <th>股票6</th>\n",
       "      <td>0.643196</td>\n",
       "      <td>2.227970</td>\n",
       "      <td>-0.744888</td>\n",
       "      <td>0.097859</td>\n",
       "      <td>1.420387</td>\n",
       "    </tr>\n",
       "    <tr>\n",
       "      <th>股票7</th>\n",
       "      <td>0.288216</td>\n",
       "      <td>-0.443786</td>\n",
       "      <td>-1.059534</td>\n",
       "      <td>0.294176</td>\n",
       "      <td>-1.309153</td>\n",
       "    </tr>\n",
       "    <tr>\n",
       "      <th>股票8</th>\n",
       "      <td>1.342000</td>\n",
       "      <td>-0.072212</td>\n",
       "      <td>-0.015820</td>\n",
       "      <td>1.219507</td>\n",
       "      <td>0.250335</td>\n",
       "    </tr>\n",
       "    <tr>\n",
       "      <th>股票9</th>\n",
       "      <td>0.945044</td>\n",
       "      <td>-0.235630</td>\n",
       "      <td>1.132554</td>\n",
       "      <td>0.478756</td>\n",
       "      <td>0.609402</td>\n",
       "    </tr>\n",
       "  </tbody>\n",
       "</table>\n",
       "</div>"
      ],
      "text/plain": [
       "            0         1         2         3         4\n",
       "股票0 -0.941162 -0.923584 -0.775556  1.143178  0.151024\n",
       "股票1 -0.409355  0.748422 -1.044787 -0.367810 -0.621636\n",
       "股票2 -0.206911 -0.179033  0.013209 -0.731383  0.065654\n",
       "股票3 -0.303872 -0.523287 -1.558436 -1.278769 -0.305792\n",
       "股票4 -0.424990  0.273960  0.803817 -1.207473 -0.339678\n",
       "股票5 -1.072316  0.296924  0.115668 -1.256551 -0.708840\n",
       "股票6  0.643196  2.227970 -0.744888  0.097859  1.420387\n",
       "股票7  0.288216 -0.443786 -1.059534  0.294176 -1.309153\n",
       "股票8  1.342000 -0.072212 -0.015820  1.219507  0.250335\n",
       "股票9  0.945044 -0.235630  1.132554  0.478756  0.609402"
      ]
     },
     "execution_count": 7,
     "metadata": {},
     "output_type": "execute_result"
    }
   ],
   "source": [
    "pd.DataFrame(stock_change, index=stock)"
   ]
  },
  {
   "cell_type": "code",
   "execution_count": 8,
   "metadata": {},
   "outputs": [],
   "source": [
    "date = pd.date_range(start='20200420', periods=5, freq='B')"
   ]
  },
  {
   "cell_type": "code",
   "execution_count": 9,
   "metadata": {},
   "outputs": [
    {
     "data": {
      "text/plain": [
       "DatetimeIndex(['2020-04-20', '2020-04-21', '2020-04-22', '2020-04-23',\n",
       "               '2020-04-24'],\n",
       "              dtype='datetime64[ns]', freq='B')"
      ]
     },
     "execution_count": 9,
     "metadata": {},
     "output_type": "execute_result"
    }
   ],
   "source": [
    "date"
   ]
  },
  {
   "cell_type": "code",
   "execution_count": 10,
   "metadata": {},
   "outputs": [],
   "source": [
    "df = pd.DataFrame(stock_change, index=stock, columns=date)"
   ]
  },
  {
   "cell_type": "code",
   "execution_count": 11,
   "metadata": {},
   "outputs": [
    {
     "data": {
      "text/plain": [
       "(10, 5)"
      ]
     },
     "execution_count": 11,
     "metadata": {},
     "output_type": "execute_result"
    }
   ],
   "source": [
    "df.shape"
   ]
  },
  {
   "cell_type": "code",
   "execution_count": 12,
   "metadata": {},
   "outputs": [
    {
     "data": {
      "text/plain": [
       "Index(['股票0', '股票1', '股票2', '股票3', '股票4', '股票5', '股票6', '股票7', '股票8', '股票9'], dtype='object')"
      ]
     },
     "execution_count": 12,
     "metadata": {},
     "output_type": "execute_result"
    }
   ],
   "source": [
    "df.index"
   ]
  },
  {
   "cell_type": "code",
   "execution_count": 13,
   "metadata": {},
   "outputs": [
    {
     "data": {
      "text/plain": [
       "DatetimeIndex(['2020-04-20', '2020-04-21', '2020-04-22', '2020-04-23',\n",
       "               '2020-04-24'],\n",
       "              dtype='datetime64[ns]', freq='B')"
      ]
     },
     "execution_count": 13,
     "metadata": {},
     "output_type": "execute_result"
    }
   ],
   "source": [
    "df.columns"
   ]
  },
  {
   "cell_type": "code",
   "execution_count": 14,
   "metadata": {},
   "outputs": [
    {
     "data": {
      "text/plain": [
       "array([[-0.941162  , -0.92358381, -0.77555565,  1.14317837,  0.15102403],\n",
       "       [-0.40935521,  0.74842182, -1.04478714, -0.36781009, -0.62163599],\n",
       "       [-0.20691062, -0.17903267,  0.01320877, -0.73138344,  0.06565432],\n",
       "       [-0.30387187, -0.52328741, -1.55843589, -1.27876923, -0.3057923 ],\n",
       "       [-0.42499041,  0.27395973,  0.80381744, -1.20747345, -0.33967782],\n",
       "       [-1.07231586,  0.2969242 ,  0.11566751, -1.25655088, -0.70883973],\n",
       "       [ 0.64319569,  2.22797008, -0.74488763,  0.09785897,  1.42038713],\n",
       "       [ 0.28821583, -0.44378612, -1.05953383,  0.29417604, -1.30915253],\n",
       "       [ 1.342     , -0.07221205, -0.01581974,  1.21950732,  0.25033527],\n",
       "       [ 0.94504351, -0.23562996,  1.13255372,  0.4787558 ,  0.60940236]])"
      ]
     },
     "execution_count": 14,
     "metadata": {},
     "output_type": "execute_result"
    }
   ],
   "source": [
    "df.values"
   ]
  },
  {
   "cell_type": "code",
   "execution_count": 15,
   "metadata": {},
   "outputs": [
    {
     "data": {
      "text/html": [
       "<div>\n",
       "<style scoped>\n",
       "    .dataframe tbody tr th:only-of-type {\n",
       "        vertical-align: middle;\n",
       "    }\n",
       "\n",
       "    .dataframe tbody tr th {\n",
       "        vertical-align: top;\n",
       "    }\n",
       "\n",
       "    .dataframe thead th {\n",
       "        text-align: right;\n",
       "    }\n",
       "</style>\n",
       "<table border=\"1\" class=\"dataframe\">\n",
       "  <thead>\n",
       "    <tr style=\"text-align: right;\">\n",
       "      <th></th>\n",
       "      <th>股票0</th>\n",
       "      <th>股票1</th>\n",
       "      <th>股票2</th>\n",
       "      <th>股票3</th>\n",
       "      <th>股票4</th>\n",
       "      <th>股票5</th>\n",
       "      <th>股票6</th>\n",
       "      <th>股票7</th>\n",
       "      <th>股票8</th>\n",
       "      <th>股票9</th>\n",
       "    </tr>\n",
       "  </thead>\n",
       "  <tbody>\n",
       "    <tr>\n",
       "      <th>2020-04-20</th>\n",
       "      <td>-0.941162</td>\n",
       "      <td>-0.409355</td>\n",
       "      <td>-0.206911</td>\n",
       "      <td>-0.303872</td>\n",
       "      <td>-0.424990</td>\n",
       "      <td>-1.072316</td>\n",
       "      <td>0.643196</td>\n",
       "      <td>0.288216</td>\n",
       "      <td>1.342000</td>\n",
       "      <td>0.945044</td>\n",
       "    </tr>\n",
       "    <tr>\n",
       "      <th>2020-04-21</th>\n",
       "      <td>-0.923584</td>\n",
       "      <td>0.748422</td>\n",
       "      <td>-0.179033</td>\n",
       "      <td>-0.523287</td>\n",
       "      <td>0.273960</td>\n",
       "      <td>0.296924</td>\n",
       "      <td>2.227970</td>\n",
       "      <td>-0.443786</td>\n",
       "      <td>-0.072212</td>\n",
       "      <td>-0.235630</td>\n",
       "    </tr>\n",
       "    <tr>\n",
       "      <th>2020-04-22</th>\n",
       "      <td>-0.775556</td>\n",
       "      <td>-1.044787</td>\n",
       "      <td>0.013209</td>\n",
       "      <td>-1.558436</td>\n",
       "      <td>0.803817</td>\n",
       "      <td>0.115668</td>\n",
       "      <td>-0.744888</td>\n",
       "      <td>-1.059534</td>\n",
       "      <td>-0.015820</td>\n",
       "      <td>1.132554</td>\n",
       "    </tr>\n",
       "    <tr>\n",
       "      <th>2020-04-23</th>\n",
       "      <td>1.143178</td>\n",
       "      <td>-0.367810</td>\n",
       "      <td>-0.731383</td>\n",
       "      <td>-1.278769</td>\n",
       "      <td>-1.207473</td>\n",
       "      <td>-1.256551</td>\n",
       "      <td>0.097859</td>\n",
       "      <td>0.294176</td>\n",
       "      <td>1.219507</td>\n",
       "      <td>0.478756</td>\n",
       "    </tr>\n",
       "    <tr>\n",
       "      <th>2020-04-24</th>\n",
       "      <td>0.151024</td>\n",
       "      <td>-0.621636</td>\n",
       "      <td>0.065654</td>\n",
       "      <td>-0.305792</td>\n",
       "      <td>-0.339678</td>\n",
       "      <td>-0.708840</td>\n",
       "      <td>1.420387</td>\n",
       "      <td>-1.309153</td>\n",
       "      <td>0.250335</td>\n",
       "      <td>0.609402</td>\n",
       "    </tr>\n",
       "  </tbody>\n",
       "</table>\n",
       "</div>"
      ],
      "text/plain": [
       "                 股票0       股票1       股票2       股票3       股票4       股票5  \\\n",
       "2020-04-20 -0.941162 -0.409355 -0.206911 -0.303872 -0.424990 -1.072316   \n",
       "2020-04-21 -0.923584  0.748422 -0.179033 -0.523287  0.273960  0.296924   \n",
       "2020-04-22 -0.775556 -1.044787  0.013209 -1.558436  0.803817  0.115668   \n",
       "2020-04-23  1.143178 -0.367810 -0.731383 -1.278769 -1.207473 -1.256551   \n",
       "2020-04-24  0.151024 -0.621636  0.065654 -0.305792 -0.339678 -0.708840   \n",
       "\n",
       "                 股票6       股票7       股票8       股票9  \n",
       "2020-04-20  0.643196  0.288216  1.342000  0.945044  \n",
       "2020-04-21  2.227970 -0.443786 -0.072212 -0.235630  \n",
       "2020-04-22 -0.744888 -1.059534 -0.015820  1.132554  \n",
       "2020-04-23  0.097859  0.294176  1.219507  0.478756  \n",
       "2020-04-24  1.420387 -1.309153  0.250335  0.609402  "
      ]
     },
     "execution_count": 15,
     "metadata": {},
     "output_type": "execute_result"
    }
   ],
   "source": [
    "df.T"
   ]
  },
  {
   "cell_type": "code",
   "execution_count": 16,
   "metadata": {},
   "outputs": [
    {
     "data": {
      "text/html": [
       "<div>\n",
       "<style scoped>\n",
       "    .dataframe tbody tr th:only-of-type {\n",
       "        vertical-align: middle;\n",
       "    }\n",
       "\n",
       "    .dataframe tbody tr th {\n",
       "        vertical-align: top;\n",
       "    }\n",
       "\n",
       "    .dataframe thead th {\n",
       "        text-align: right;\n",
       "    }\n",
       "</style>\n",
       "<table border=\"1\" class=\"dataframe\">\n",
       "  <thead>\n",
       "    <tr style=\"text-align: right;\">\n",
       "      <th></th>\n",
       "      <th>2020-04-20</th>\n",
       "      <th>2020-04-21</th>\n",
       "      <th>2020-04-22</th>\n",
       "      <th>2020-04-23</th>\n",
       "      <th>2020-04-24</th>\n",
       "    </tr>\n",
       "  </thead>\n",
       "  <tbody>\n",
       "    <tr>\n",
       "      <th>股票0</th>\n",
       "      <td>-0.941162</td>\n",
       "      <td>-0.923584</td>\n",
       "      <td>-0.775556</td>\n",
       "      <td>1.143178</td>\n",
       "      <td>0.151024</td>\n",
       "    </tr>\n",
       "  </tbody>\n",
       "</table>\n",
       "</div>"
      ],
      "text/plain": [
       "     2020-04-20  2020-04-21  2020-04-22  2020-04-23  2020-04-24\n",
       "股票0   -0.941162   -0.923584   -0.775556    1.143178    0.151024"
      ]
     },
     "execution_count": 16,
     "metadata": {},
     "output_type": "execute_result"
    }
   ],
   "source": [
    "df.head(1)"
   ]
  },
  {
   "cell_type": "code",
   "execution_count": 17,
   "metadata": {},
   "outputs": [
    {
     "data": {
      "text/html": [
       "<div>\n",
       "<style scoped>\n",
       "    .dataframe tbody tr th:only-of-type {\n",
       "        vertical-align: middle;\n",
       "    }\n",
       "\n",
       "    .dataframe tbody tr th {\n",
       "        vertical-align: top;\n",
       "    }\n",
       "\n",
       "    .dataframe thead th {\n",
       "        text-align: right;\n",
       "    }\n",
       "</style>\n",
       "<table border=\"1\" class=\"dataframe\">\n",
       "  <thead>\n",
       "    <tr style=\"text-align: right;\">\n",
       "      <th></th>\n",
       "      <th>2020-04-20</th>\n",
       "      <th>2020-04-21</th>\n",
       "      <th>2020-04-22</th>\n",
       "      <th>2020-04-23</th>\n",
       "      <th>2020-04-24</th>\n",
       "    </tr>\n",
       "  </thead>\n",
       "  <tbody>\n",
       "    <tr>\n",
       "      <th>股票8</th>\n",
       "      <td>1.342000</td>\n",
       "      <td>-0.072212</td>\n",
       "      <td>-0.015820</td>\n",
       "      <td>1.219507</td>\n",
       "      <td>0.250335</td>\n",
       "    </tr>\n",
       "    <tr>\n",
       "      <th>股票9</th>\n",
       "      <td>0.945044</td>\n",
       "      <td>-0.235630</td>\n",
       "      <td>1.132554</td>\n",
       "      <td>0.478756</td>\n",
       "      <td>0.609402</td>\n",
       "    </tr>\n",
       "  </tbody>\n",
       "</table>\n",
       "</div>"
      ],
      "text/plain": [
       "     2020-04-20  2020-04-21  2020-04-22  2020-04-23  2020-04-24\n",
       "股票8    1.342000   -0.072212   -0.015820    1.219507    0.250335\n",
       "股票9    0.945044   -0.235630    1.132554    0.478756    0.609402"
      ]
     },
     "execution_count": 17,
     "metadata": {},
     "output_type": "execute_result"
    }
   ],
   "source": [
    "df.tail(2)"
   ]
  },
  {
   "cell_type": "code",
   "execution_count": 18,
   "metadata": {},
   "outputs": [
    {
     "data": {
      "text/plain": [
       "['股票_0',\n",
       " '股票_1',\n",
       " '股票_2',\n",
       " '股票_3',\n",
       " '股票_4',\n",
       " '股票_5',\n",
       " '股票_6',\n",
       " '股票_7',\n",
       " '股票_8',\n",
       " '股票_9']"
      ]
     },
     "execution_count": 18,
     "metadata": {},
     "output_type": "execute_result"
    }
   ],
   "source": [
    "# 修改索引\n",
    "# 不能单独修改\n",
    "stock_ = ['股票_{}'.format(i) for i in range(10)]\n",
    "stock_"
   ]
  },
  {
   "cell_type": "code",
   "execution_count": 19,
   "metadata": {},
   "outputs": [
    {
     "data": {
      "text/plain": [
       "Index(['股票0', '股票1', '股票2', '股票3', '股票4', '股票5', '股票6', '股票7', '股票8', '股票9'], dtype='object')"
      ]
     },
     "execution_count": 19,
     "metadata": {},
     "output_type": "execute_result"
    }
   ],
   "source": [
    "df.index"
   ]
  },
  {
   "cell_type": "code",
   "execution_count": 20,
   "metadata": {},
   "outputs": [],
   "source": [
    "# 必须全部修改\n",
    "df.index = stock_"
   ]
  },
  {
   "cell_type": "code",
   "execution_count": 21,
   "metadata": {},
   "outputs": [
    {
     "data": {
      "text/plain": [
       "Index(['股票_0', '股票_1', '股票_2', '股票_3', '股票_4', '股票_5', '股票_6', '股票_7', '股票_8',\n",
       "       '股票_9'],\n",
       "      dtype='object')"
      ]
     },
     "execution_count": 21,
     "metadata": {},
     "output_type": "execute_result"
    }
   ],
   "source": [
    "df.index"
   ]
  },
  {
   "cell_type": "code",
   "execution_count": 22,
   "metadata": {},
   "outputs": [
    {
     "data": {
      "text/html": [
       "<div>\n",
       "<style scoped>\n",
       "    .dataframe tbody tr th:only-of-type {\n",
       "        vertical-align: middle;\n",
       "    }\n",
       "\n",
       "    .dataframe tbody tr th {\n",
       "        vertical-align: top;\n",
       "    }\n",
       "\n",
       "    .dataframe thead th {\n",
       "        text-align: right;\n",
       "    }\n",
       "</style>\n",
       "<table border=\"1\" class=\"dataframe\">\n",
       "  <thead>\n",
       "    <tr style=\"text-align: right;\">\n",
       "      <th></th>\n",
       "      <th>2020-04-20</th>\n",
       "      <th>2020-04-21</th>\n",
       "      <th>2020-04-22</th>\n",
       "      <th>2020-04-23</th>\n",
       "      <th>2020-04-24</th>\n",
       "    </tr>\n",
       "  </thead>\n",
       "  <tbody>\n",
       "    <tr>\n",
       "      <th>股票_8</th>\n",
       "      <td>1.342000</td>\n",
       "      <td>-0.072212</td>\n",
       "      <td>-0.015820</td>\n",
       "      <td>1.219507</td>\n",
       "      <td>0.250335</td>\n",
       "    </tr>\n",
       "    <tr>\n",
       "      <th>股票_9</th>\n",
       "      <td>0.945044</td>\n",
       "      <td>-0.235630</td>\n",
       "      <td>1.132554</td>\n",
       "      <td>0.478756</td>\n",
       "      <td>0.609402</td>\n",
       "    </tr>\n",
       "  </tbody>\n",
       "</table>\n",
       "</div>"
      ],
      "text/plain": [
       "      2020-04-20  2020-04-21  2020-04-22  2020-04-23  2020-04-24\n",
       "股票_8    1.342000   -0.072212   -0.015820    1.219507    0.250335\n",
       "股票_9    0.945044   -0.235630    1.132554    0.478756    0.609402"
      ]
     },
     "execution_count": 22,
     "metadata": {},
     "output_type": "execute_result"
    }
   ],
   "source": [
    "df.tail(2)"
   ]
  },
  {
   "cell_type": "code",
   "execution_count": 23,
   "metadata": {},
   "outputs": [
    {
     "data": {
      "text/html": [
       "<div>\n",
       "<style scoped>\n",
       "    .dataframe tbody tr th:only-of-type {\n",
       "        vertical-align: middle;\n",
       "    }\n",
       "\n",
       "    .dataframe tbody tr th {\n",
       "        vertical-align: top;\n",
       "    }\n",
       "\n",
       "    .dataframe thead th {\n",
       "        text-align: right;\n",
       "    }\n",
       "</style>\n",
       "<table border=\"1\" class=\"dataframe\">\n",
       "  <thead>\n",
       "    <tr style=\"text-align: right;\">\n",
       "      <th></th>\n",
       "      <th>2020-04-20</th>\n",
       "      <th>2020-04-21</th>\n",
       "      <th>2020-04-22</th>\n",
       "      <th>2020-04-23</th>\n",
       "      <th>2020-04-24</th>\n",
       "    </tr>\n",
       "  </thead>\n",
       "  <tbody>\n",
       "    <tr>\n",
       "      <th>0</th>\n",
       "      <td>0.068355</td>\n",
       "      <td>0.203012</td>\n",
       "      <td>1.889326</td>\n",
       "      <td>-1.670847</td>\n",
       "      <td>-1.239886</td>\n",
       "    </tr>\n",
       "    <tr>\n",
       "      <th>1</th>\n",
       "      <td>-1.813092</td>\n",
       "      <td>-0.285382</td>\n",
       "      <td>0.143938</td>\n",
       "      <td>0.098557</td>\n",
       "      <td>-0.349308</td>\n",
       "    </tr>\n",
       "    <tr>\n",
       "      <th>2</th>\n",
       "      <td>1.607153</td>\n",
       "      <td>-0.976716</td>\n",
       "      <td>0.995046</td>\n",
       "      <td>-1.062146</td>\n",
       "      <td>-1.296888</td>\n",
       "    </tr>\n",
       "    <tr>\n",
       "      <th>3</th>\n",
       "      <td>0.745089</td>\n",
       "      <td>0.296221</td>\n",
       "      <td>-0.195409</td>\n",
       "      <td>-0.677324</td>\n",
       "      <td>0.809483</td>\n",
       "    </tr>\n",
       "    <tr>\n",
       "      <th>4</th>\n",
       "      <td>0.505410</td>\n",
       "      <td>0.157363</td>\n",
       "      <td>-0.892932</td>\n",
       "      <td>-1.387413</td>\n",
       "      <td>0.397413</td>\n",
       "    </tr>\n",
       "    <tr>\n",
       "      <th>5</th>\n",
       "      <td>-0.055986</td>\n",
       "      <td>-1.579660</td>\n",
       "      <td>-1.246429</td>\n",
       "      <td>-0.794527</td>\n",
       "      <td>0.401035</td>\n",
       "    </tr>\n",
       "    <tr>\n",
       "      <th>6</th>\n",
       "      <td>-0.452414</td>\n",
       "      <td>0.809457</td>\n",
       "      <td>-1.528715</td>\n",
       "      <td>-0.708620</td>\n",
       "      <td>-1.542618</td>\n",
       "    </tr>\n",
       "    <tr>\n",
       "      <th>7</th>\n",
       "      <td>-0.020787</td>\n",
       "      <td>1.068338</td>\n",
       "      <td>0.479262</td>\n",
       "      <td>-0.076283</td>\n",
       "      <td>0.625475</td>\n",
       "    </tr>\n",
       "    <tr>\n",
       "      <th>8</th>\n",
       "      <td>0.406427</td>\n",
       "      <td>-1.363418</td>\n",
       "      <td>-0.085297</td>\n",
       "      <td>-1.346990</td>\n",
       "      <td>-1.905033</td>\n",
       "    </tr>\n",
       "    <tr>\n",
       "      <th>9</th>\n",
       "      <td>-0.507554</td>\n",
       "      <td>1.776269</td>\n",
       "      <td>0.806649</td>\n",
       "      <td>2.442045</td>\n",
       "      <td>0.709556</td>\n",
       "    </tr>\n",
       "  </tbody>\n",
       "</table>\n",
       "</div>"
      ],
      "text/plain": [
       "   2020-04-20  2020-04-21  2020-04-22  2020-04-23  2020-04-24\n",
       "0    0.068355    0.203012    1.889326   -1.670847   -1.239886\n",
       "1   -1.813092   -0.285382    0.143938    0.098557   -0.349308\n",
       "2    1.607153   -0.976716    0.995046   -1.062146   -1.296888\n",
       "3    0.745089    0.296221   -0.195409   -0.677324    0.809483\n",
       "4    0.505410    0.157363   -0.892932   -1.387413    0.397413\n",
       "5   -0.055986   -1.579660   -1.246429   -0.794527    0.401035\n",
       "6   -0.452414    0.809457   -1.528715   -0.708620   -1.542618\n",
       "7   -0.020787    1.068338    0.479262   -0.076283    0.625475\n",
       "8    0.406427   -1.363418   -0.085297   -1.346990   -1.905033\n",
       "9   -0.507554    1.776269    0.806649    2.442045    0.709556"
      ]
     },
     "execution_count": 23,
     "metadata": {},
     "output_type": "execute_result"
    }
   ],
   "source": [
    "# 重设索引\n",
    "df.reset_index(drop=True)"
   ]
  },
  {
   "cell_type": "markdown",
   "metadata": {},
   "source": [
    "### 设置新索引"
   ]
  },
  {
   "cell_type": "code",
   "execution_count": 24,
   "metadata": {},
   "outputs": [],
   "source": [
    "df = pd.DataFrame({'month':[1, 4, 7, 10], \n",
    "                   'year':[2017, 2018, 2019, 2020],\n",
    "                   'sale':[55, 40, 94, 34]})"
   ]
  },
  {
   "cell_type": "code",
   "execution_count": 25,
   "metadata": {},
   "outputs": [
    {
     "data": {
      "text/html": [
       "<div>\n",
       "<style scoped>\n",
       "    .dataframe tbody tr th:only-of-type {\n",
       "        vertical-align: middle;\n",
       "    }\n",
       "\n",
       "    .dataframe tbody tr th {\n",
       "        vertical-align: top;\n",
       "    }\n",
       "\n",
       "    .dataframe thead th {\n",
       "        text-align: right;\n",
       "    }\n",
       "</style>\n",
       "<table border=\"1\" class=\"dataframe\">\n",
       "  <thead>\n",
       "    <tr style=\"text-align: right;\">\n",
       "      <th></th>\n",
       "      <th>month</th>\n",
       "      <th>year</th>\n",
       "      <th>sale</th>\n",
       "    </tr>\n",
       "  </thead>\n",
       "  <tbody>\n",
       "    <tr>\n",
       "      <th>0</th>\n",
       "      <td>1</td>\n",
       "      <td>2017</td>\n",
       "      <td>55</td>\n",
       "    </tr>\n",
       "    <tr>\n",
       "      <th>1</th>\n",
       "      <td>4</td>\n",
       "      <td>2018</td>\n",
       "      <td>40</td>\n",
       "    </tr>\n",
       "    <tr>\n",
       "      <th>2</th>\n",
       "      <td>7</td>\n",
       "      <td>2019</td>\n",
       "      <td>94</td>\n",
       "    </tr>\n",
       "    <tr>\n",
       "      <th>3</th>\n",
       "      <td>10</td>\n",
       "      <td>2020</td>\n",
       "      <td>34</td>\n",
       "    </tr>\n",
       "  </tbody>\n",
       "</table>\n",
       "</div>"
      ],
      "text/plain": [
       "   month  year  sale\n",
       "0      1  2017    55\n",
       "1      4  2018    40\n",
       "2      7  2019    94\n",
       "3     10  2020    34"
      ]
     },
     "execution_count": 25,
     "metadata": {},
     "output_type": "execute_result"
    }
   ],
   "source": [
    "df"
   ]
  },
  {
   "cell_type": "code",
   "execution_count": 30,
   "metadata": {},
   "outputs": [],
   "source": [
    "new_df = df.set_index(keys=[ 'year','month'], drop=True)"
   ]
  },
  {
   "cell_type": "code",
   "execution_count": 31,
   "metadata": {},
   "outputs": [
    {
     "data": {
      "text/plain": [
       "MultiIndex([(2017,  1),\n",
       "            (2018,  4),\n",
       "            (2019,  7),\n",
       "            (2020, 10)],\n",
       "           names=['year', 'month'])"
      ]
     },
     "execution_count": 31,
     "metadata": {},
     "output_type": "execute_result"
    }
   ],
   "source": [
    "new_df.index"
   ]
  },
  {
   "cell_type": "code",
   "execution_count": 33,
   "metadata": {},
   "outputs": [
    {
     "data": {
      "text/plain": [
       "FrozenList(['year', 'month'])"
      ]
     },
     "execution_count": 33,
     "metadata": {},
     "output_type": "execute_result"
    }
   ],
   "source": [
    "new_df.index.names"
   ]
  },
  {
   "cell_type": "code",
   "execution_count": 34,
   "metadata": {},
   "outputs": [
    {
     "data": {
      "text/plain": [
       "FrozenList([[2017, 2018, 2019, 2020], [1, 4, 7, 10]])"
      ]
     },
     "execution_count": 34,
     "metadata": {},
     "output_type": "execute_result"
    }
   ],
   "source": [
    "new_df.index.levels"
   ]
  },
  {
   "cell_type": "code",
   "execution_count": 25,
   "metadata": {},
   "outputs": [
    {
     "data": {
      "text/html": [
       "<div>\n",
       "<style scoped>\n",
       "    .dataframe tbody tr th:only-of-type {\n",
       "        vertical-align: middle;\n",
       "    }\n",
       "\n",
       "    .dataframe tbody tr th {\n",
       "        vertical-align: top;\n",
       "    }\n",
       "\n",
       "    .dataframe thead th {\n",
       "        text-align: right;\n",
       "    }\n",
       "</style>\n",
       "<table border=\"1\" class=\"dataframe\">\n",
       "  <thead>\n",
       "    <tr style=\"text-align: right;\">\n",
       "      <th></th>\n",
       "      <th>2020-04-20</th>\n",
       "      <th>2020-04-21</th>\n",
       "      <th>2020-04-22</th>\n",
       "      <th>2020-04-23</th>\n",
       "      <th>2020-04-24</th>\n",
       "    </tr>\n",
       "  </thead>\n",
       "  <tbody>\n",
       "    <tr>\n",
       "      <th>股票_0</th>\n",
       "      <td>-0.941162</td>\n",
       "      <td>-0.923584</td>\n",
       "      <td>-0.775556</td>\n",
       "      <td>1.143178</td>\n",
       "      <td>0.151024</td>\n",
       "    </tr>\n",
       "    <tr>\n",
       "      <th>股票_1</th>\n",
       "      <td>-0.409355</td>\n",
       "      <td>0.748422</td>\n",
       "      <td>-1.044787</td>\n",
       "      <td>-0.367810</td>\n",
       "      <td>-0.621636</td>\n",
       "    </tr>\n",
       "    <tr>\n",
       "      <th>股票_2</th>\n",
       "      <td>-0.206911</td>\n",
       "      <td>-0.179033</td>\n",
       "      <td>0.013209</td>\n",
       "      <td>-0.731383</td>\n",
       "      <td>0.065654</td>\n",
       "    </tr>\n",
       "    <tr>\n",
       "      <th>股票_3</th>\n",
       "      <td>-0.303872</td>\n",
       "      <td>-0.523287</td>\n",
       "      <td>-1.558436</td>\n",
       "      <td>-1.278769</td>\n",
       "      <td>-0.305792</td>\n",
       "    </tr>\n",
       "    <tr>\n",
       "      <th>股票_4</th>\n",
       "      <td>-0.424990</td>\n",
       "      <td>0.273960</td>\n",
       "      <td>0.803817</td>\n",
       "      <td>-1.207473</td>\n",
       "      <td>-0.339678</td>\n",
       "    </tr>\n",
       "    <tr>\n",
       "      <th>股票_5</th>\n",
       "      <td>-1.072316</td>\n",
       "      <td>0.296924</td>\n",
       "      <td>0.115668</td>\n",
       "      <td>-1.256551</td>\n",
       "      <td>-0.708840</td>\n",
       "    </tr>\n",
       "    <tr>\n",
       "      <th>股票_6</th>\n",
       "      <td>0.643196</td>\n",
       "      <td>2.227970</td>\n",
       "      <td>-0.744888</td>\n",
       "      <td>0.097859</td>\n",
       "      <td>1.420387</td>\n",
       "    </tr>\n",
       "    <tr>\n",
       "      <th>股票_7</th>\n",
       "      <td>0.288216</td>\n",
       "      <td>-0.443786</td>\n",
       "      <td>-1.059534</td>\n",
       "      <td>0.294176</td>\n",
       "      <td>-1.309153</td>\n",
       "    </tr>\n",
       "    <tr>\n",
       "      <th>股票_8</th>\n",
       "      <td>1.342000</td>\n",
       "      <td>-0.072212</td>\n",
       "      <td>-0.015820</td>\n",
       "      <td>1.219507</td>\n",
       "      <td>0.250335</td>\n",
       "    </tr>\n",
       "    <tr>\n",
       "      <th>股票_9</th>\n",
       "      <td>0.945044</td>\n",
       "      <td>-0.235630</td>\n",
       "      <td>1.132554</td>\n",
       "      <td>0.478756</td>\n",
       "      <td>0.609402</td>\n",
       "    </tr>\n",
       "  </tbody>\n",
       "</table>\n",
       "</div>"
      ],
      "text/plain": [
       "      2020-04-20  2020-04-21  2020-04-22  2020-04-23  2020-04-24\n",
       "股票_0   -0.941162   -0.923584   -0.775556    1.143178    0.151024\n",
       "股票_1   -0.409355    0.748422   -1.044787   -0.367810   -0.621636\n",
       "股票_2   -0.206911   -0.179033    0.013209   -0.731383    0.065654\n",
       "股票_3   -0.303872   -0.523287   -1.558436   -1.278769   -0.305792\n",
       "股票_4   -0.424990    0.273960    0.803817   -1.207473   -0.339678\n",
       "股票_5   -1.072316    0.296924    0.115668   -1.256551   -0.708840\n",
       "股票_6    0.643196    2.227970   -0.744888    0.097859    1.420387\n",
       "股票_7    0.288216   -0.443786   -1.059534    0.294176   -1.309153\n",
       "股票_8    1.342000   -0.072212   -0.015820    1.219507    0.250335\n",
       "股票_9    0.945044   -0.235630    1.132554    0.478756    0.609402"
      ]
     },
     "execution_count": 25,
     "metadata": {},
     "output_type": "execute_result"
    }
   ],
   "source": [
    "df"
   ]
  },
  {
   "cell_type": "code",
   "execution_count": 26,
   "metadata": {},
   "outputs": [
    {
     "data": {
      "text/plain": [
       "2020-04-20   -0.409355\n",
       "2020-04-21    0.748422\n",
       "2020-04-22   -1.044787\n",
       "2020-04-23   -0.367810\n",
       "2020-04-24   -0.621636\n",
       "Freq: B, Name: 股票_1, dtype: float64"
      ]
     },
     "execution_count": 26,
     "metadata": {},
     "output_type": "execute_result"
    }
   ],
   "source": [
    "df.iloc[1,:]"
   ]
  },
  {
   "cell_type": "code",
   "execution_count": 27,
   "metadata": {},
   "outputs": [],
   "source": [
    "# Series 带索引的一维数组\n",
    "sr = df.iloc[1,:]"
   ]
  },
  {
   "cell_type": "code",
   "execution_count": 31,
   "metadata": {},
   "outputs": [
    {
     "data": {
      "text/plain": [
       "2020-04-20   -0.409355\n",
       "2020-04-21    0.748422\n",
       "2020-04-22   -1.044787\n",
       "2020-04-23   -0.367810\n",
       "2020-04-24   -0.621636\n",
       "Freq: B, Name: 股票_1, dtype: float64"
      ]
     },
     "execution_count": 31,
     "metadata": {},
     "output_type": "execute_result"
    }
   ],
   "source": [
    "sr"
   ]
  },
  {
   "cell_type": "code",
   "execution_count": 32,
   "metadata": {},
   "outputs": [
    {
     "data": {
      "text/plain": [
       "DatetimeIndex(['2020-04-20', '2020-04-21', '2020-04-22', '2020-04-23',\n",
       "               '2020-04-24'],\n",
       "              dtype='datetime64[ns]', freq='B')"
      ]
     },
     "execution_count": 32,
     "metadata": {},
     "output_type": "execute_result"
    }
   ],
   "source": [
    "sr.index"
   ]
  },
  {
   "cell_type": "code",
   "execution_count": 33,
   "metadata": {},
   "outputs": [
    {
     "data": {
      "text/plain": [
       "array([-0.40935521,  0.74842182, -1.04478714, -0.36781009, -0.62163599])"
      ]
     },
     "execution_count": 33,
     "metadata": {},
     "output_type": "execute_result"
    }
   ],
   "source": [
    "sr.values"
   ]
  },
  {
   "cell_type": "code",
   "execution_count": 45,
   "metadata": {},
   "outputs": [],
   "source": [
    "sr1 = pd.Series(np.arange(3,9,2), index=['a', 'b', 'c'])"
   ]
  },
  {
   "cell_type": "code",
   "execution_count": 46,
   "metadata": {},
   "outputs": [
    {
     "data": {
      "text/plain": [
       "pandas.core.series.Series"
      ]
     },
     "execution_count": 46,
     "metadata": {},
     "output_type": "execute_result"
    }
   ],
   "source": [
    "type(sr1)"
   ]
  },
  {
   "cell_type": "code",
   "execution_count": 47,
   "metadata": {},
   "outputs": [
    {
     "data": {
      "text/plain": [
       "pandas.core.frame.DataFrame"
      ]
     },
     "execution_count": 47,
     "metadata": {},
     "output_type": "execute_result"
    }
   ],
   "source": [
    "type(df)"
   ]
  },
  {
   "cell_type": "code",
   "execution_count": 48,
   "metadata": {},
   "outputs": [
    {
     "data": {
      "text/plain": [
       "a    3\n",
       "b    5\n",
       "c    7\n",
       "dtype: int32"
      ]
     },
     "execution_count": 48,
     "metadata": {},
     "output_type": "execute_result"
    }
   ],
   "source": [
    "sr1"
   ]
  },
  {
   "cell_type": "code",
   "execution_count": 49,
   "metadata": {},
   "outputs": [
    {
     "data": {
      "text/plain": [
       "red        100\n",
       "blue       200\n",
       "green      500\n",
       "yellow    1000\n",
       "dtype: int64"
      ]
     },
     "execution_count": 49,
     "metadata": {},
     "output_type": "execute_result"
    }
   ],
   "source": [
    "# DataFrame 是 Series 的容器\n",
    "pd.Series({'red':100, 'blue':200, 'green':500, 'yellow':1000})"
   ]
  },
  {
   "cell_type": "markdown",
   "metadata": {},
   "source": [
    "# 基本操作"
   ]
  },
  {
   "cell_type": "code",
   "execution_count": null,
   "metadata": {},
   "outputs": [],
   "source": [
    "data = pd.read_csv('./')"
   ]
  }
 ],
 "metadata": {
  "kernelspec": {
   "display_name": "Python 3",
   "language": "python",
   "name": "python3"
  },
  "language_info": {
   "codemirror_mode": {
    "name": "ipython",
    "version": 3
   },
   "file_extension": ".py",
   "mimetype": "text/x-python",
   "name": "python",
   "nbconvert_exporter": "python",
   "pygments_lexer": "ipython3",
   "version": "3.8.2"
  }
 },
 "nbformat": 4,
 "nbformat_minor": 4
}
