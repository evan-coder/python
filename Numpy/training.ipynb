{
 "cells": [
  {
   "cell_type": "markdown",
   "metadata": {},
   "source": [
    "# Numpy 入门"
   ]
  },
  {
   "cell_type": "code",
   "execution_count": 1,
   "metadata": {},
   "outputs": [],
   "source": [
    "import numpy as np\n",
    "import random\n",
    "import time\n",
    "import matplotlib.pyplot as plt\n",
    "import pandas as pd"
   ]
  },
  {
   "cell_type": "code",
   "execution_count": 4,
   "metadata": {},
   "outputs": [],
   "source": [
    "scores = np.array([[80, 89, 86, 67, 79],\n",
    "[78, 97, 89, 67, 81],\n",
    "[90, 94, 78, 67, 74],\n",
    "[91, 91, 90, 67, 69],\n",
    "[76, 87, 75, 67, 86],\n",
    "[70, 79, 84, 67, 84],\n",
    "[94, 92, 93, 67, 64],\n",
    "[86, 85, 83, 67, 80]])"
   ]
  },
  {
   "cell_type": "code",
   "execution_count": 5,
   "metadata": {},
   "outputs": [
    {
     "data": {
      "text/plain": [
       "array([[80, 89, 86, 67, 79],\n",
       "       [78, 97, 89, 67, 81],\n",
       "       [90, 94, 78, 67, 74],\n",
       "       [91, 91, 90, 67, 69],\n",
       "       [76, 87, 75, 67, 86],\n",
       "       [70, 79, 84, 67, 84],\n",
       "       [94, 92, 93, 67, 64],\n",
       "       [86, 85, 83, 67, 80]])"
      ]
     },
     "execution_count": 5,
     "metadata": {},
     "output_type": "execute_result"
    }
   ],
   "source": [
    "scores"
   ]
  },
  {
   "cell_type": "code",
   "execution_count": 6,
   "metadata": {},
   "outputs": [
    {
     "data": {
      "text/plain": [
       "numpy.ndarray"
      ]
     },
     "execution_count": 6,
     "metadata": {},
     "output_type": "execute_result"
    }
   ],
   "source": [
    "type(scores)"
   ]
  },
  {
   "cell_type": "markdown",
   "metadata": {},
   "source": [
    "### 效率对比"
   ]
  },
  {
   "cell_type": "code",
   "execution_count": 15,
   "metadata": {},
   "outputs": [],
   "source": [
    "# list\n",
    "\n",
    "py_list = []\n",
    "for i in range(10000000):\n",
    "    py_list.append(random.random())"
   ]
  },
  {
   "cell_type": "code",
   "execution_count": 10,
   "metadata": {},
   "outputs": [],
   "source": [
    "ndarray_list = np.array(py_list)"
   ]
  },
  {
   "cell_type": "code",
   "execution_count": 11,
   "metadata": {},
   "outputs": [
    {
     "data": {
      "text/plain": [
       "1000000"
      ]
     },
     "execution_count": 11,
     "metadata": {},
     "output_type": "execute_result"
    }
   ],
   "source": [
    "len(ndarray_list)"
   ]
  },
  {
   "cell_type": "code",
   "execution_count": 12,
   "metadata": {},
   "outputs": [],
   "source": [
    "# list 求和\n",
    "t1 = time.time()\n",
    "a = sum(py_list)\n",
    "t2 = time.time()\n",
    "d1 = t2 - t1\n",
    "\n",
    "# ndarray 求和\n",
    "t3 = time.time()\n",
    "a = np.sum(ndarray_list)\n",
    "t4 = time.time()\n",
    "d2 = t4 - t3"
   ]
  },
  {
   "cell_type": "code",
   "execution_count": 13,
   "metadata": {},
   "outputs": [
    {
     "data": {
      "text/plain": [
       "0.011966228485107422"
      ]
     },
     "execution_count": 13,
     "metadata": {},
     "output_type": "execute_result"
    }
   ],
   "source": [
    "d1"
   ]
  },
  {
   "cell_type": "code",
   "execution_count": 14,
   "metadata": {},
   "outputs": [
    {
     "data": {
      "text/plain": [
       "0.037897348403930664"
      ]
     },
     "execution_count": 14,
     "metadata": {},
     "output_type": "execute_result"
    }
   ],
   "source": [
    "d2"
   ]
  },
  {
   "cell_type": "markdown",
   "metadata": {},
   "source": [
    "### ndarray 属性"
   ]
  },
  {
   "cell_type": "code",
   "execution_count": 18,
   "metadata": {},
   "outputs": [
    {
     "data": {
      "text/plain": [
       "(8, 5)"
      ]
     },
     "execution_count": 18,
     "metadata": {},
     "output_type": "execute_result"
    }
   ],
   "source": [
    "# (8, 5)\n",
    "scores.shape"
   ]
  },
  {
   "cell_type": "code",
   "execution_count": 17,
   "metadata": {},
   "outputs": [
    {
     "data": {
      "text/plain": [
       "2"
      ]
     },
     "execution_count": 17,
     "metadata": {},
     "output_type": "execute_result"
    }
   ],
   "source": [
    "scores.ndim"
   ]
  },
  {
   "cell_type": "code",
   "execution_count": 19,
   "metadata": {},
   "outputs": [
    {
     "data": {
      "text/plain": [
       "dtype('int32')"
      ]
     },
     "execution_count": 19,
     "metadata": {},
     "output_type": "execute_result"
    }
   ],
   "source": [
    "scores.dtype"
   ]
  },
  {
   "cell_type": "markdown",
   "metadata": {},
   "source": [
    "- ndarray的形状"
   ]
  },
  {
   "cell_type": "code",
   "execution_count": 21,
   "metadata": {},
   "outputs": [],
   "source": [
    "a = np.array([[1,2,3], [4, 5, 6]])\n",
    "b = np.array([1,2,3,4])\n",
    "c = np.array([[[1,2,3],[4,5,6]],[[1,2,3], [4,5,6]]])"
   ]
  },
  {
   "cell_type": "code",
   "execution_count": 22,
   "metadata": {},
   "outputs": [
    {
     "data": {
      "text/plain": [
       "array([[1, 2, 3],\n",
       "       [4, 5, 6]])"
      ]
     },
     "execution_count": 22,
     "metadata": {},
     "output_type": "execute_result"
    }
   ],
   "source": [
    "a"
   ]
  },
  {
   "cell_type": "code",
   "execution_count": 23,
   "metadata": {},
   "outputs": [
    {
     "data": {
      "text/plain": [
       "array([1, 2, 3, 4])"
      ]
     },
     "execution_count": 23,
     "metadata": {},
     "output_type": "execute_result"
    }
   ],
   "source": [
    "b"
   ]
  },
  {
   "cell_type": "code",
   "execution_count": 24,
   "metadata": {},
   "outputs": [
    {
     "data": {
      "text/plain": [
       "array([[[1, 2, 3],\n",
       "        [4, 5, 6]],\n",
       "\n",
       "       [[1, 2, 3],\n",
       "        [4, 5, 6]]])"
      ]
     },
     "execution_count": 24,
     "metadata": {},
     "output_type": "execute_result"
    }
   ],
   "source": [
    "c"
   ]
  },
  {
   "cell_type": "code",
   "execution_count": 25,
   "metadata": {},
   "outputs": [
    {
     "data": {
      "text/plain": [
       "(2, 3)"
      ]
     },
     "execution_count": 25,
     "metadata": {},
     "output_type": "execute_result"
    }
   ],
   "source": [
    "a.shape"
   ]
  },
  {
   "cell_type": "code",
   "execution_count": 26,
   "metadata": {},
   "outputs": [
    {
     "data": {
      "text/plain": [
       "(4,)"
      ]
     },
     "execution_count": 26,
     "metadata": {},
     "output_type": "execute_result"
    }
   ],
   "source": [
    "b.shape"
   ]
  },
  {
   "cell_type": "code",
   "execution_count": 27,
   "metadata": {},
   "outputs": [
    {
     "data": {
      "text/plain": [
       "(2, 2, 3)"
      ]
     },
     "execution_count": 27,
     "metadata": {},
     "output_type": "execute_result"
    }
   ],
   "source": [
    "c.shape"
   ]
  },
  {
   "cell_type": "markdown",
   "metadata": {},
   "source": [
    "- ndarray类型"
   ]
  },
  {
   "cell_type": "code",
   "execution_count": 29,
   "metadata": {},
   "outputs": [],
   "source": [
    "data = np.array([1.1, 2.2, 3.3])"
   ]
  },
  {
   "cell_type": "code",
   "execution_count": 30,
   "metadata": {},
   "outputs": [
    {
     "data": {
      "text/plain": [
       "array([1.1, 2.2, 3.3])"
      ]
     },
     "execution_count": 30,
     "metadata": {},
     "output_type": "execute_result"
    }
   ],
   "source": [
    "data"
   ]
  },
  {
   "cell_type": "code",
   "execution_count": 31,
   "metadata": {},
   "outputs": [
    {
     "data": {
      "text/plain": [
       "dtype('float64')"
      ]
     },
     "execution_count": 31,
     "metadata": {},
     "output_type": "execute_result"
    }
   ],
   "source": [
    "data.dtype"
   ]
  },
  {
   "cell_type": "code",
   "execution_count": 33,
   "metadata": {},
   "outputs": [
    {
     "data": {
      "text/plain": [
       "array([1.1, 2.2, 3.3], dtype=float32)"
      ]
     },
     "execution_count": 33,
     "metadata": {},
     "output_type": "execute_result"
    }
   ],
   "source": [
    "# 创建数组时指定类型\n",
    "np.array([1.1, 2.2, 3.3], dtype='float32')"
   ]
  },
  {
   "cell_type": "code",
   "execution_count": 34,
   "metadata": {},
   "outputs": [
    {
     "data": {
      "text/plain": [
       "array([1.1, 2.2, 3.3], dtype=float32)"
      ]
     },
     "execution_count": 34,
     "metadata": {},
     "output_type": "execute_result"
    }
   ],
   "source": [
    "np.array([1.1, 2.2, 3.3], dtype=np.float32)"
   ]
  },
  {
   "cell_type": "code",
   "execution_count": 35,
   "metadata": {},
   "outputs": [],
   "source": [
    "strs = np.array(['python', 'c', 'c++'], dtype=np.string_)"
   ]
  },
  {
   "cell_type": "code",
   "execution_count": 36,
   "metadata": {},
   "outputs": [
    {
     "data": {
      "text/plain": [
       "array([b'python', b'c', b'c++'], dtype='|S6')"
      ]
     },
     "execution_count": 36,
     "metadata": {},
     "output_type": "execute_result"
    }
   ],
   "source": [
    "strs"
   ]
  },
  {
   "cell_type": "code",
   "execution_count": 40,
   "metadata": {},
   "outputs": [
    {
     "data": {
      "text/plain": [
       "array([[0, 0, 0, 0],\n",
       "       [0, 0, 0, 0],\n",
       "       [0, 0, 0, 0]], dtype=int64)"
      ]
     },
     "execution_count": 40,
     "metadata": {},
     "output_type": "execute_result"
    }
   ],
   "source": [
    "# 生成全0数组，shape可以用元祖，也可以用列表\n",
    "np.zeros(shape=[3,4], dtype='int64')"
   ]
  },
  {
   "cell_type": "code",
   "execution_count": 42,
   "metadata": {},
   "outputs": [
    {
     "data": {
      "text/plain": [
       "array([[1., 1., 1., 1., 1.],\n",
       "       [1., 1., 1., 1., 1.],\n",
       "       [1., 1., 1., 1., 1.],\n",
       "       [1., 1., 1., 1., 1.]])"
      ]
     },
     "execution_count": 42,
     "metadata": {},
     "output_type": "execute_result"
    }
   ],
   "source": [
    "np.ones(shape=(4,5), dtype=np.float64)"
   ]
  },
  {
   "cell_type": "code",
   "execution_count": 55,
   "metadata": {},
   "outputs": [],
   "source": [
    "a1 = np.array([[1,2,3],[4,5,6]])\n",
    "# 从现有数组中创建数组\n",
    "a2 = np.array(a1)            # 深拷贝\n",
    "a3 = np.asarray(a1)          # 浅拷贝\n",
    "a4 = np.copy(a1)             # 深拷贝"
   ]
  },
  {
   "cell_type": "code",
   "execution_count": 49,
   "metadata": {},
   "outputs": [
    {
     "data": {
      "text/plain": [
       "(array([[1, 2, 3],\n",
       "        [4, 5, 6]]),\n",
       " array([[1, 2, 3],\n",
       "        [4, 5, 6]]),\n",
       " array([[1, 2, 3],\n",
       "        [4, 5, 6]]),\n",
       " array([[1, 2, 3],\n",
       "        [4, 5, 6]]))"
      ]
     },
     "execution_count": 49,
     "metadata": {},
     "output_type": "execute_result"
    }
   ],
   "source": [
    "a1,a2,a3,a4"
   ]
  },
  {
   "cell_type": "code",
   "execution_count": 56,
   "metadata": {},
   "outputs": [],
   "source": [
    "a1[1][1] = 99"
   ]
  },
  {
   "cell_type": "code",
   "execution_count": 51,
   "metadata": {},
   "outputs": [
    {
     "data": {
      "text/plain": [
       "array([[ 1,  2,  3],\n",
       "       [ 4, 99,  6]])"
      ]
     },
     "execution_count": 51,
     "metadata": {},
     "output_type": "execute_result"
    }
   ],
   "source": [
    "a1"
   ]
  },
  {
   "cell_type": "code",
   "execution_count": 52,
   "metadata": {},
   "outputs": [
    {
     "data": {
      "text/plain": [
       "array([[1, 2, 3],\n",
       "       [4, 5, 6]])"
      ]
     },
     "execution_count": 52,
     "metadata": {},
     "output_type": "execute_result"
    }
   ],
   "source": [
    "a2"
   ]
  },
  {
   "cell_type": "code",
   "execution_count": 53,
   "metadata": {},
   "outputs": [
    {
     "data": {
      "text/plain": [
       "array([[ 1,  2,  3],\n",
       "       [ 4, 99,  6]])"
      ]
     },
     "execution_count": 53,
     "metadata": {},
     "output_type": "execute_result"
    }
   ],
   "source": [
    "a3"
   ]
  },
  {
   "cell_type": "code",
   "execution_count": 54,
   "metadata": {},
   "outputs": [
    {
     "data": {
      "text/plain": [
       "array([[1, 2, 3],\n",
       "       [4, 5, 6]])"
      ]
     },
     "execution_count": 54,
     "metadata": {},
     "output_type": "execute_result"
    }
   ],
   "source": [
    "a4"
   ]
  },
  {
   "cell_type": "code",
   "execution_count": 57,
   "metadata": {},
   "outputs": [
    {
     "data": {
      "text/plain": [
       "array([ 0.        ,  0.1010101 ,  0.2020202 ,  0.3030303 ,  0.4040404 ,\n",
       "        0.50505051,  0.60606061,  0.70707071,  0.80808081,  0.90909091,\n",
       "        1.01010101,  1.11111111,  1.21212121,  1.31313131,  1.41414141,\n",
       "        1.51515152,  1.61616162,  1.71717172,  1.81818182,  1.91919192,\n",
       "        2.02020202,  2.12121212,  2.22222222,  2.32323232,  2.42424242,\n",
       "        2.52525253,  2.62626263,  2.72727273,  2.82828283,  2.92929293,\n",
       "        3.03030303,  3.13131313,  3.23232323,  3.33333333,  3.43434343,\n",
       "        3.53535354,  3.63636364,  3.73737374,  3.83838384,  3.93939394,\n",
       "        4.04040404,  4.14141414,  4.24242424,  4.34343434,  4.44444444,\n",
       "        4.54545455,  4.64646465,  4.74747475,  4.84848485,  4.94949495,\n",
       "        5.05050505,  5.15151515,  5.25252525,  5.35353535,  5.45454545,\n",
       "        5.55555556,  5.65656566,  5.75757576,  5.85858586,  5.95959596,\n",
       "        6.06060606,  6.16161616,  6.26262626,  6.36363636,  6.46464646,\n",
       "        6.56565657,  6.66666667,  6.76767677,  6.86868687,  6.96969697,\n",
       "        7.07070707,  7.17171717,  7.27272727,  7.37373737,  7.47474747,\n",
       "        7.57575758,  7.67676768,  7.77777778,  7.87878788,  7.97979798,\n",
       "        8.08080808,  8.18181818,  8.28282828,  8.38383838,  8.48484848,\n",
       "        8.58585859,  8.68686869,  8.78787879,  8.88888889,  8.98989899,\n",
       "        9.09090909,  9.19191919,  9.29292929,  9.39393939,  9.49494949,\n",
       "        9.5959596 ,  9.6969697 ,  9.7979798 ,  9.8989899 , 10.        ])"
      ]
     },
     "execution_count": 57,
     "metadata": {},
     "output_type": "execute_result"
    }
   ],
   "source": [
    "np.linspace(0, 10, 100)"
   ]
  },
  {
   "cell_type": "code",
   "execution_count": 4,
   "metadata": {},
   "outputs": [
    {
     "data": {
      "text/plain": [
       "array([0, 2, 4, 6, 8])"
      ]
     },
     "execution_count": 4,
     "metadata": {},
     "output_type": "execute_result"
    }
   ],
   "source": [
    "np.arange(0,10,2)"
   ]
  },
  {
   "cell_type": "code",
   "execution_count": 61,
   "metadata": {},
   "outputs": [
    {
     "data": {
      "text/plain": [
       "range(0, 11, 2)"
      ]
     },
     "execution_count": 61,
     "metadata": {},
     "output_type": "execute_result"
    }
   ],
   "source": [
    "range(0,11,2)"
   ]
  },
  {
   "cell_type": "code",
   "execution_count": 62,
   "metadata": {},
   "outputs": [
    {
     "data": {
      "text/plain": [
       "array([[0.54921775]])"
      ]
     },
     "execution_count": 62,
     "metadata": {},
     "output_type": "execute_result"
    }
   ],
   "source": [
    "np.random.rand(1,1)"
   ]
  },
  {
   "cell_type": "code",
   "execution_count": 5,
   "metadata": {},
   "outputs": [],
   "source": [
    "# 均匀分布\n",
    "data = np.random.uniform(low=-1, high=1, size=1000000)"
   ]
  },
  {
   "cell_type": "code",
   "execution_count": 6,
   "metadata": {},
   "outputs": [],
   "source": [
    "import matplotlib.pyplot as plt"
   ]
  },
  {
   "cell_type": "code",
   "execution_count": 8,
   "metadata": {},
   "outputs": [
    {
     "data": {
      "image/png": "[encoded data removed]",
      "text/plain": [
       "<Figure size 2400x960 with 1 Axes>"
      ]
     },
     "metadata": {
      "needs_background": "light"
     },
     "output_type": "display_data"
    }
   ],
   "source": [
    "# 1、创建画布\n",
    "plt.figure(figsize=(20,8), dpi=120)\n",
    "# 2、绘制直方图\n",
    "plt.hist(data, 1000)\n",
    "# 3、显示图像\n",
    "plt.show()"
   ]
  },
  {
   "cell_type": "code",
   "execution_count": 13,
   "metadata": {},
   "outputs": [],
   "source": [
    "# loc 均值\n",
    "# scale 标准差\n",
    "data2 = np.random.normal(loc=1.75, scale=0.1, size=100000000)"
   ]
  },
  {
   "cell_type": "code",
   "execution_count": 14,
   "metadata": {},
   "outputs": [
    {
     "data": {
      "text/plain": [
       "array([2.01678398, 1.85507311, 1.58852855, ..., 1.8329738 , 1.69415775,\n",
       "       1.67551731])"
      ]
     },
     "execution_count": 14,
     "metadata": {},
     "output_type": "execute_result"
    }
   ],
   "source": [
    "data2"
   ]
  },
  {
   "cell_type": "code",
   "execution_count": 15,
   "metadata": {},
   "outputs": [
    {
     "data": {
      "image/png": "[encoded data removed]",
      "text/plain": [
       "<Figure size 1600x640 with 1 Axes>"
      ]
     },
     "metadata": {
      "needs_background": "light"
     },
     "output_type": "display_data"
    }
   ],
   "source": [
    "# 1、创建画布\n",
    "plt.figure(figsize=(20,8), dpi=80)\n",
    "# 2、绘制直方图\n",
    "plt.hist(data2, 1000)\n",
    "# 3、显示图像\n",
    "plt.show()"
   ]
  },
  {
   "cell_type": "code",
   "execution_count": 43,
   "metadata": {},
   "outputs": [],
   "source": [
    "stock_change = np.random.normal(loc=0, scale=1, size=(8,10))"
   ]
  },
  {
   "cell_type": "code",
   "execution_count": 44,
   "metadata": {},
   "outputs": [
    {
     "data": {
      "text/plain": [
       "array([[-0.06323977, -0.88330221, -0.21799733,  0.56361921, -0.89325766,\n",
       "        -1.14939027, -0.86237257,  0.1751447 ,  0.90955959,  1.40913523],\n",
       "       [ 0.65952005,  0.17400827, -0.55299925, -2.21633826, -0.44986218,\n",
       "        -1.24160219, -0.5422053 , -0.64094921, -0.38191887, -0.69357932],\n",
       "       [-0.4302788 ,  0.87974954, -1.17453608,  0.49155704,  2.40375644,\n",
       "         0.19388042, -1.10790649,  1.08240247,  0.97159068,  1.3575857 ],\n",
       "       [-1.97492317,  0.89890686, -0.62057148,  0.40366002, -0.59062511,\n",
       "         0.33833207,  3.18753281, -0.89577959,  0.2766836 ,  1.26195846],\n",
       "       [-0.26888368, -0.88034558, -1.10886576,  0.57337173,  0.68108508,\n",
       "        -0.3800429 , -0.80385668,  0.18614188, -0.49353086,  0.40345747],\n",
       "       [-1.49507677,  0.6704652 , -0.49169902, -1.16497629, -0.88822035,\n",
       "        -0.33151429, -0.22908711, -0.46597058,  2.6546111 ,  1.29359978],\n",
       "       [-0.13603963, -0.99649415, -2.17709734, -0.36547538, -0.44943906,\n",
       "        -0.58500974,  2.42921366, -2.669913  , -0.48202975,  1.41468695],\n",
       "       [-0.50260713,  0.81607103, -0.10881968, -1.12465652, -0.25403244,\n",
       "         0.19665153, -0.07858119, -1.83860703,  0.66458252,  0.34604245]])"
      ]
     },
     "execution_count": 44,
     "metadata": {},
     "output_type": "execute_result"
    }
   ],
   "source": [
    "stock_change"
   ]
  },
  {
   "cell_type": "code",
   "execution_count": 19,
   "metadata": {},
   "outputs": [
    {
     "data": {
      "text/plain": [
       "array([-0.58005711, -0.06554188,  0.32097952])"
      ]
     },
     "execution_count": 19,
     "metadata": {},
     "output_type": "execute_result"
    }
   ],
   "source": [
    "stock_change[0][:3]\n",
    "stock_change[0,:3]"
   ]
  },
  {
   "cell_type": "code",
   "execution_count": 4,
   "metadata": {},
   "outputs": [],
   "source": [
    "arr = [1, 2, 3, 4, 5, 6]\n",
    "# 求均值\n",
    "arr_mean = np.mean(arr)\n",
    "\n",
    "# 求方差\n",
    "arr_var = np.var(arr)\n",
    "\n",
    "# 求标准差\n",
    "arr_std = np.std(arr, ddof=1)"
   ]
  },
  {
   "cell_type": "code",
   "execution_count": 5,
   "metadata": {},
   "outputs": [
    {
     "name": "stdout",
     "output_type": "stream",
     "text": [
      "3.5 2.9166666666666665 1.8708286933869707\n"
     ]
    }
   ],
   "source": [
    "print(arr_mean, arr_var, arr_std)"
   ]
  },
  {
   "cell_type": "code",
   "execution_count": 9,
   "metadata": {},
   "outputs": [],
   "source": [
    "scores = [63, 84, 91, 53, 69, 81, 61, 69, 91, 78, 75, 81, 80, 67, 76, 81, 79, 94, 61, 69, 89, 70, 70, 87, 81, 86, 90, 88, 85, 67, 71, 82, 87, 75, 87, 95, 53, 65, 74, 77]"
   ]
  },
  {
   "cell_type": "code",
   "execution_count": 16,
   "metadata": {},
   "outputs": [
    {
     "data": {
      "text/plain": [
       "77.05"
      ]
     },
     "execution_count": 16,
     "metadata": {},
     "output_type": "execute_result"
    }
   ],
   "source": [
    "# 求均值\n",
    "scores_mean = np.mean(scores)\n",
    "scores_mean"
   ]
  },
  {
   "cell_type": "code",
   "execution_count": 17,
   "metadata": {},
   "outputs": [
    {
     "data": {
      "text/plain": [
       "114.5975"
      ]
     },
     "execution_count": 17,
     "metadata": {},
     "output_type": "execute_result"
    }
   ],
   "source": [
    "# 求方差\n",
    "scores_var = np.var(scores)\n",
    "scores_var"
   ]
  },
  {
   "cell_type": "code",
   "execution_count": 18,
   "metadata": {},
   "outputs": [
    {
     "data": {
      "text/plain": [
       "10.705022185871451"
      ]
     },
     "execution_count": 18,
     "metadata": {},
     "output_type": "execute_result"
    }
   ],
   "source": [
    "scores_std = np.std(scores)\n",
    "scores_std"
   ]
  },
  {
   "cell_type": "code",
   "execution_count": 28,
   "metadata": {},
   "outputs": [
    {
     "data": {
      "image/png": "[encoded data removed]",
      "text/plain": [
       "<Figure size 1000x600 with 1 Axes>"
      ]
     },
     "metadata": {
      "needs_background": "light"
     },
     "output_type": "display_data"
    }
   ],
   "source": [
    "plt.rcParams['font.sans-serif']=['SimHei']\n",
    "plt.figure(figsize=(10,6), dpi=100)\n",
    "plt.hist(scores, bins=10, density=False)\n",
    "plt.grid(linestyle='--', alpha=0.5)\n",
    "plt.xlabel('成绩/分')\n",
    "plt.ylabel('学生数/人')\n",
    "plt.show()"
   ]
  },
  {
   "cell_type": "code",
   "execution_count": 47,
   "metadata": {},
   "outputs": [
    {
     "data": {
      "image/png": "[encoded data removed]",
      "text/plain": [
       "<Figure size 720x432 with 2 Axes>"
      ]
     },
     "metadata": {
      "needs_background": "light"
     },
     "output_type": "display_data"
    }
   ],
   "source": [
    "fig,axes = plt.subplots(1,2,figsize = (10,6))\n",
    "df = pd.DataFrame(scores)\n",
    "# boxes 箱线\n",
    "# whiskers  \n",
    "# medians 中位线颜色\n",
    "\n",
    "color = dict(boxes = 'DarkGreen', whiskers = 'DarkOrange', medians = 'DarkBlue', caps ='Gray')\n",
    "df.plot.box(color=color, ax=axes[0], grid = True)\n",
    "df.plot.box(vert=False, color=color, ax=axes[1], grid = True)\n",
    "plt.grid(linestyle='--', alpha=0.3)\n",
    "plt.show()"
   ]
  },
  {
   "cell_type": "code",
   "execution_count": 20,
   "metadata": {},
   "outputs": [],
   "source": [
    "a3 = np.array([[[1,2,3],[4,5,6]],[[11,22,33],[44,55,66]]])"
   ]
  },
  {
   "cell_type": "code",
   "execution_count": 21,
   "metadata": {},
   "outputs": [
    {
     "data": {
      "text/plain": [
       "array([[[ 1,  2,  3],\n",
       "        [ 4,  5,  6]],\n",
       "\n",
       "       [[11, 22, 33],\n",
       "        [44, 55, 66]]])"
      ]
     },
     "execution_count": 21,
     "metadata": {},
     "output_type": "execute_result"
    }
   ],
   "source": [
    "a3"
   ]
  },
  {
   "cell_type": "code",
   "execution_count": 23,
   "metadata": {},
   "outputs": [
    {
     "data": {
      "text/plain": [
       "3"
      ]
     },
     "execution_count": 23,
     "metadata": {},
     "output_type": "execute_result"
    }
   ],
   "source": [
    "a3.ndim"
   ]
  },
  {
   "cell_type": "code",
   "execution_count": 24,
   "metadata": {},
   "outputs": [
    {
     "data": {
      "text/plain": [
       "(2, 2, 3)"
      ]
     },
     "execution_count": 24,
     "metadata": {},
     "output_type": "execute_result"
    }
   ],
   "source": [
    "a3.shape"
   ]
  },
  {
   "cell_type": "code",
   "execution_count": 25,
   "metadata": {},
   "outputs": [
    {
     "data": {
      "text/plain": [
       "33"
      ]
     },
     "execution_count": 25,
     "metadata": {},
     "output_type": "execute_result"
    }
   ],
   "source": [
    "a3[1,0,2]"
   ]
  },
  {
   "cell_type": "code",
   "execution_count": 33,
   "metadata": {},
   "outputs": [
    {
     "data": {
      "text/plain": [
       "array([[-0.58005711, -0.06554188,  0.32097952,  0.44763732, -0.9225249 ,\n",
       "         0.93093613, -0.12059611,  0.87732307],\n",
       "       [ 0.17866488, -1.30513708,  0.10415603, -0.12053653, -1.9585698 ,\n",
       "        -0.1793229 ,  0.94418512, -1.42659725],\n",
       "       [ 0.71667304, -0.85873937,  0.91827354,  0.11242722, -0.63365953,\n",
       "         0.17787223,  1.79160262,  0.1707185 ],\n",
       "       [ 1.50280334,  1.02387378, -0.71101617,  1.27570825, -1.89922051,\n",
       "         0.40631407, -0.58628748, -0.10117429],\n",
       "       [ 1.01499496,  0.26999139,  0.62427551, -2.27897885,  0.15167194,\n",
       "        -0.12335396,  0.11143447, -1.44265037],\n",
       "       [-2.4888568 ,  1.02743115, -0.43389882, -1.37342763,  1.26093374,\n",
       "        -0.64921036,  1.87942568, -0.19610845],\n",
       "       [-0.10431922, -0.61921497,  1.12363775, -0.21205987, -0.90452014,\n",
       "        -0.24126239,  1.53718331,  1.5860683 ],\n",
       "       [ 0.94567299, -1.22101784,  0.18482192,  0.27048502, -1.86611614,\n",
       "        -0.65108694,  1.4516173 , -1.22985705],\n",
       "       [-0.27810973, -0.41089366,  0.81095612,  0.68303641, -1.76613625,\n",
       "         0.77288408,  0.13613453,  0.18754764],\n",
       "       [-0.34906591,  0.10124713, -0.19504695,  0.10005147,  1.02192662,\n",
       "         1.11267868,  0.55167699,  0.81048331]])"
      ]
     },
     "execution_count": 33,
     "metadata": {},
     "output_type": "execute_result"
    }
   ],
   "source": [
    "# 形状修改\n",
    "stock_change"
   ]
  },
  {
   "cell_type": "code",
   "execution_count": 29,
   "metadata": {},
   "outputs": [
    {
     "data": {
      "text/plain": [
       "array([[-0.58005711, -0.06554188,  0.32097952,  0.44763732, -0.9225249 ,\n",
       "         0.93093613, -0.12059611,  0.87732307],\n",
       "       [ 0.17866488, -1.30513708,  0.10415603, -0.12053653, -1.9585698 ,\n",
       "        -0.1793229 ,  0.94418512, -1.42659725],\n",
       "       [ 0.71667304, -0.85873937,  0.91827354,  0.11242722, -0.63365953,\n",
       "         0.17787223,  1.79160262,  0.1707185 ],\n",
       "       [ 1.50280334,  1.02387378, -0.71101617,  1.27570825, -1.89922051,\n",
       "         0.40631407, -0.58628748, -0.10117429],\n",
       "       [ 1.01499496,  0.26999139,  0.62427551, -2.27897885,  0.15167194,\n",
       "        -0.12335396,  0.11143447, -1.44265037],\n",
       "       [-2.4888568 ,  1.02743115, -0.43389882, -1.37342763,  1.26093374,\n",
       "        -0.64921036,  1.87942568, -0.19610845],\n",
       "       [-0.10431922, -0.61921497,  1.12363775, -0.21205987, -0.90452014,\n",
       "        -0.24126239,  1.53718331,  1.5860683 ],\n",
       "       [ 0.94567299, -1.22101784,  0.18482192,  0.27048502, -1.86611614,\n",
       "        -0.65108694,  1.4516173 , -1.22985705],\n",
       "       [-0.27810973, -0.41089366,  0.81095612,  0.68303641, -1.76613625,\n",
       "         0.77288408,  0.13613453,  0.18754764],\n",
       "       [-0.34906591,  0.10124713, -0.19504695,  0.10005147,  1.02192662,\n",
       "         1.11267868,  0.55167699,  0.81048331]])"
      ]
     },
     "execution_count": 29,
     "metadata": {},
     "output_type": "execute_result"
    }
   ],
   "source": [
    "stock_change.reshape((10,8))"
   ]
  },
  {
   "cell_type": "code",
   "execution_count": 30,
   "metadata": {},
   "outputs": [],
   "source": [
    "# 无返回值，对原始数据进行修改\n",
    "stock_change.resize((10,8))"
   ]
  },
  {
   "cell_type": "code",
   "execution_count": 31,
   "metadata": {},
   "outputs": [
    {
     "data": {
      "text/plain": [
       "array([[-0.58005711, -0.06554188,  0.32097952,  0.44763732, -0.9225249 ,\n",
       "         0.93093613, -0.12059611,  0.87732307],\n",
       "       [ 0.17866488, -1.30513708,  0.10415603, -0.12053653, -1.9585698 ,\n",
       "        -0.1793229 ,  0.94418512, -1.42659725],\n",
       "       [ 0.71667304, -0.85873937,  0.91827354,  0.11242722, -0.63365953,\n",
       "         0.17787223,  1.79160262,  0.1707185 ],\n",
       "       [ 1.50280334,  1.02387378, -0.71101617,  1.27570825, -1.89922051,\n",
       "         0.40631407, -0.58628748, -0.10117429],\n",
       "       [ 1.01499496,  0.26999139,  0.62427551, -2.27897885,  0.15167194,\n",
       "        -0.12335396,  0.11143447, -1.44265037],\n",
       "       [-2.4888568 ,  1.02743115, -0.43389882, -1.37342763,  1.26093374,\n",
       "        -0.64921036,  1.87942568, -0.19610845],\n",
       "       [-0.10431922, -0.61921497,  1.12363775, -0.21205987, -0.90452014,\n",
       "        -0.24126239,  1.53718331,  1.5860683 ],\n",
       "       [ 0.94567299, -1.22101784,  0.18482192,  0.27048502, -1.86611614,\n",
       "        -0.65108694,  1.4516173 , -1.22985705],\n",
       "       [-0.27810973, -0.41089366,  0.81095612,  0.68303641, -1.76613625,\n",
       "         0.77288408,  0.13613453,  0.18754764],\n",
       "       [-0.34906591,  0.10124713, -0.19504695,  0.10005147,  1.02192662,\n",
       "         1.11267868,  0.55167699,  0.81048331]])"
      ]
     },
     "execution_count": 31,
     "metadata": {},
     "output_type": "execute_result"
    }
   ],
   "source": [
    "stock_change"
   ]
  },
  {
   "cell_type": "code",
   "execution_count": 39,
   "metadata": {},
   "outputs": [
    {
     "data": {
      "text/plain": [
       "array([[ 0.27136407,  1.40989244,  0.94134537,  0.29013921,  1.41524859,\n",
       "        -0.53351228, -0.59864624, -1.69139692],\n",
       "       [-0.0342899 ,  0.89716136, -0.1578286 ,  0.50929309,  0.02817903,\n",
       "         0.41993584, -0.61962102,  0.69992864],\n",
       "       [-0.83200526, -0.20117095, -1.67220661,  0.48543095,  1.28052773,\n",
       "        -1.47910274, -1.34610478,  0.07630723],\n",
       "       [-1.50160285,  1.28428494,  1.13024751, -0.07674907, -0.83500003,\n",
       "         0.79553917,  0.367351  ,  0.35769586],\n",
       "       [ 0.41806867,  0.19498373,  1.3971934 ,  0.76439232,  0.82592153,\n",
       "        -0.05920621, -0.19686111,  1.09414538],\n",
       "       [ 1.60076419, -0.33213161, -0.46944811,  0.2681286 ,  1.10055776,\n",
       "        -0.80389331, -0.79136771, -0.75461839],\n",
       "       [-0.62701409, -1.04796858,  0.3772736 , -1.21421092,  1.43371718,\n",
       "        -0.36570737,  0.32466583, -0.20979446],\n",
       "       [-1.53341366,  1.04444908,  0.37445041, -0.60657364, -1.4525249 ,\n",
       "         0.25763208, -0.82874966,  0.51560061],\n",
       "       [-0.63977035,  1.91923312, -0.36800571, -0.95759067, -1.50221799,\n",
       "         1.01098009, -0.27578769,  1.23503705],\n",
       "       [ 0.19845887,  0.59109465,  0.03038575, -1.27499674,  0.28107598,\n",
       "        -1.72479414,  0.65506129,  0.28973398]])"
      ]
     },
     "execution_count": 39,
     "metadata": {},
     "output_type": "execute_result"
    }
   ],
   "source": [
    "stock_change.T"
   ]
  },
  {
   "cell_type": "code",
   "execution_count": 40,
   "metadata": {},
   "outputs": [
    {
     "data": {
      "text/plain": [
       "array([[ 0,  0,  0, -1,  0,  1,  0, -1,  0,  0],\n",
       "       [ 1,  0,  0,  1,  0,  0, -1,  1,  1,  0],\n",
       "       [ 0,  0, -1,  1,  1,  0,  0,  0,  0,  0],\n",
       "       [ 0,  0,  0,  0,  0,  0, -1,  0,  0, -1],\n",
       "       [ 1,  0,  1,  0,  0,  1,  1, -1, -1,  0],\n",
       "       [ 0,  0, -1,  0,  0,  0,  0,  0,  1, -1],\n",
       "       [ 0,  0, -1,  0,  0,  0,  0,  0,  0,  0],\n",
       "       [-1,  0,  0,  0,  1,  0,  0,  0,  1,  0]])"
      ]
     },
     "execution_count": 40,
     "metadata": {},
     "output_type": "execute_result"
    }
   ],
   "source": [
    "stock_change.astype('int32')"
   ]
  },
  {
   "cell_type": "code",
   "execution_count": 41,
   "metadata": {},
   "outputs": [
    {
     "data": {
      "text/plain": [
       "b'g\\xd2\\te\\x07^\\xd1?\\x87\\xa8\\xe9\\x18r\\x8e\\xa1\\xbf\\x0c~\\x89~\\xc9\\x9f\\xea\\xbf&s\\xe3\\xb4\\x90\\x06\\xf8\\xbf~:3\\x15\\xa3\\xc1\\xda?\\xe2X\\\\\\xe9\\xba\\x9c\\xf9?16e\\xdb\\x7f\\x10\\xe4\\xbf\\xe9\\x82\\xe6\\xc1\\xdc\\x88\\xf8\\xbf\\xcbc\\xad\\xac\\xffx\\xe4\\xbf\\x8b\\xcf\\x8d\\xa8\\x19g\\xc9?D(%`\\xeb\\x8e\\xf6?\\xf8\\x91\\xf8\\xbb\\x8b\\xb5\\xec?#\\x14\\xa87\\xf8\\xbf\\xc9\\xbf\\xf0\\ty^n\\x8c\\xf4?\\x0f\\x10.\\x1b:\\xf5\\xc8?\\xfer\\xff\\xf0\\xa4A\\xd5\\xbf{kg\\xb4z\\xc4\\xf0\\xbf\\xbd\\xf4\\x95<\\x10\\xb6\\xf0?\\x1eCp\\xc8-\\xb5\\xfe?\\xe9(\\xa6T?\\xea\\xe2?\\xde\\xfd\\x95U\\x80\\x1f\\xee?\\x8d\\xf5\\xc0?\\xba3\\xc4\\xbf;g\\xf1\\xb8[\\xc1\\xfa\\xbfp<}h~\\x15\\xf2?(g\\x85v\\xe7Z\\xf6?\\x14\\xb3\\xed\\x19p\\x0b\\xde\\xbf\\xb0(\\xb7+@%\\xd8?\\x86n\\xd0\\xd7\\xfe\\xf6\\xd7?\\x02\\x90`\\xd0g\\x8d\\xd7\\xbfD\\xb1\\xabMq\\x1d\\x9f?/\\x9cY\\x08\\xa4\\x91\\xd2?\\x18,\\xec\\x05!L\\xe0?\\x8c\\xfe\\xc2\\xf8L\\x11\\xdf?\\xf6-\\xd2\\xaa\\xd3\\xa5\\xb3\\xbf\\xfa\\xbe\\xa3\\xdf\\xe6u\\xe8?\\x93<\\xca\\xdf\\x04)\\xd1?\\xb5\\x92\\xd5mhm\\xf3\\xbf\\xc3_, \\ri\\xe3\\xbfB\\xf7\\x16.\\x95\\xa4\\xee\\xbf\\xb4G\\x1e\\xfcbf\\xf4\\xbf\\x10\\x86\\x83\\xb4\\xdb\\xa4\\xf6?*\\xd3_m\\xf6\\xda\\x9c?\\xfdo\\xfe\\xa5\\n}\\xf4?\\xb9\\xcd\\x15\\xfbQ\\xb8\\xea\\xbf\\xd327\\xfd\\xf2m\\xea?\\x82\\x01\\xeas\\xe2\\x9b\\xf1?\\xbbG\\x9bl\\x81\\xf0\\xf6?\\x0b&\\xdf\\xc0\\x8a=\\xf7\\xbf:\\xd0f\\xbb\\x15\\t\\xf8\\xbfd\\xca\\x19\\x17&\\xfd\\xd1?\\xc2!UV\\x88\\x12\\xe1\\xbf\\xffI\\r\\x94:\\xe0\\xda?C\\xf8\\x1b\\xa2g\\xaa\\xf7\\xbfy\\xce!\\x91\\x0eu\\xe9?\\xc6\\x90\\xdf\\xb4FP\\xae\\xbf67\\x86t~\\xb9\\xe9\\xbf\\xe73\\xfc\\xe5\\xbfg\\xd7\\xbf\\xb2\\x002F\\x0b}\\xd0?\\xec\\xae\\xa5u\\xf9,\\xf0?\\x9a\\x8a\\xd6\\xbc\\xc1\\x98\\xfb\\xbfR\\xa3F*\\x1c(\\xe3\\xbfg\\xbc\\xe0u\\xef\\xd3\\xe3\\xbf-Re)\\xa5\\x89\\xf5\\xbf\\xc1a\\xf1\\xc7\\xad\\x82\\xd7?\\x14\\xcd \\xb1\\xbe2\\xc9\\xbfJ\\xd7\\xff]\\xe2R\\xe9\\xbf\\xea\\xedm-S\\xc7\\xd4?\\x88\\x95\\xd8\\x00\\x1e\\x85\\xea\\xbfW9\\xa8m\\x81\\xa6\\xd1\\xbf\\x88h\\xf9\\x18C\\xf6\\xe4?\\xb8iT6\\xf6\\x0f\\xfb\\xbf\\xed\\xd3Y\\xc1\\xd0e\\xe6?\\xfev%\\xec\\xde\\x88\\xb3?\\x16\\x01\\xb4,}\\xe4\\xd6?n{K\\x95\\x9e\\x81\\xf1?\\xd4L\\xa9u\\xd5%\\xe8\\xbf\\xd3\\xc0\\xbaw\\x8b\\xda\\xca\\xbf\\xa5\\xe4\\xae\\xdb\\xcc\\x7f\\xe0?\\x10B\\xe25\\xb6\\xc2\\xf3?\\xf6LZe\\x00\\x8b\\xd2?'"
      ]
     },
     "execution_count": 41,
     "metadata": {},
     "output_type": "execute_result"
    }
   ],
   "source": [
    "stock_change.tostring()"
   ]
  },
  {
   "cell_type": "code",
   "execution_count": 42,
   "metadata": {},
   "outputs": [
    {
     "data": {
      "text/plain": [
       "array([ 1,  2,  3,  4,  5,  6, 11, 22, 33, 44, 55, 66])"
      ]
     },
     "execution_count": 42,
     "metadata": {},
     "output_type": "execute_result"
    }
   ],
   "source": [
    "np.unique(a3)"
   ]
  },
  {
   "cell_type": "code",
   "execution_count": 47,
   "metadata": {},
   "outputs": [],
   "source": [
    "# 运算\n",
    "stock_change = stock_change[:5,:5]"
   ]
  },
  {
   "cell_type": "code",
   "execution_count": 48,
   "metadata": {},
   "outputs": [
    {
     "data": {
      "text/plain": [
       "array([[-0.06323977, -0.88330221, -0.21799733,  0.56361921, -0.89325766],\n",
       "       [ 0.65952005,  0.17400827, -0.55299925, -2.21633826, -0.44986218],\n",
       "       [-0.4302788 ,  0.87974954, -1.17453608,  0.49155704,  2.40375644],\n",
       "       [-1.97492317,  0.89890686, -0.62057148,  0.40366002, -0.59062511],\n",
       "       [-0.26888368, -0.88034558, -1.10886576,  0.57337173,  0.68108508]])"
      ]
     },
     "execution_count": 48,
     "metadata": {},
     "output_type": "execute_result"
    }
   ],
   "source": [
    "stock_change"
   ]
  },
  {
   "cell_type": "code",
   "execution_count": 52,
   "metadata": {},
   "outputs": [],
   "source": [
    "# 逻辑运算\n",
    "stock_change[stock_change > 0.5] = 1.1"
   ]
  },
  {
   "cell_type": "code",
   "execution_count": 53,
   "metadata": {},
   "outputs": [
    {
     "data": {
      "text/plain": [
       "array([[-0.06323977, -0.88330221, -0.21799733,  1.1       , -0.89325766],\n",
       "       [ 1.1       ,  0.17400827, -0.55299925, -2.21633826, -0.44986218],\n",
       "       [-0.4302788 ,  1.1       , -1.17453608,  0.49155704,  1.1       ],\n",
       "       [-1.97492317,  1.1       , -0.62057148,  0.40366002, -0.59062511],\n",
       "       [-0.26888368, -0.88034558, -1.10886576,  1.1       ,  1.1       ]])"
      ]
     },
     "execution_count": 53,
     "metadata": {},
     "output_type": "execute_result"
    }
   ],
   "source": [
    "stock_change"
   ]
  },
  {
   "cell_type": "code",
   "execution_count": 54,
   "metadata": {},
   "outputs": [
    {
     "data": {
      "text/plain": [
       "array([[False, False, False,  True, False],\n",
       "       [ True, False, False, False, False],\n",
       "       [False,  True, False, False,  True],\n",
       "       [False,  True, False, False, False],\n",
       "       [False, False, False,  True,  True]])"
      ]
     },
     "execution_count": 54,
     "metadata": {},
     "output_type": "execute_result"
    }
   ],
   "source": [
    "stock_change > 0.5"
   ]
  },
  {
   "cell_type": "code",
   "execution_count": 55,
   "metadata": {},
   "outputs": [
    {
     "data": {
      "text/plain": [
       "True"
      ]
     },
     "execution_count": 55,
     "metadata": {},
     "output_type": "execute_result"
    }
   ],
   "source": [
    "np.any(stock_change > 0.5)"
   ]
  },
  {
   "cell_type": "code",
   "execution_count": 56,
   "metadata": {},
   "outputs": [
    {
     "data": {
      "text/plain": [
       "False"
      ]
     },
     "execution_count": 56,
     "metadata": {},
     "output_type": "execute_result"
    }
   ],
   "source": [
    "np.all(stock_change > 0.5)"
   ]
  },
  {
   "cell_type": "code",
   "execution_count": 57,
   "metadata": {},
   "outputs": [
    {
     "data": {
      "text/plain": [
       "array([[0, 0, 0, 1, 0],\n",
       "       [1, 0, 0, 0, 0],\n",
       "       [0, 1, 0, 0, 1],\n",
       "       [0, 1, 0, 0, 0],\n",
       "       [0, 0, 0, 1, 1]])"
      ]
     },
     "execution_count": 57,
     "metadata": {},
     "output_type": "execute_result"
    }
   ],
   "source": [
    "np.where(stock_change > 0.5, 1, 0)"
   ]
  },
  {
   "cell_type": "code",
   "execution_count": 61,
   "metadata": {},
   "outputs": [
    {
     "data": {
      "text/plain": [
       "array([[False, False, False, False, False],\n",
       "       [False, False, False, False, False],\n",
       "       [False, False, False, False, False],\n",
       "       [False, False, False, False, False],\n",
       "       [False, False, False, False, False]])"
      ]
     },
     "execution_count": 61,
     "metadata": {},
     "output_type": "execute_result"
    }
   ],
   "source": [
    "np.logical_and(stock_change>0.5, stock_change<1)"
   ]
  },
  {
   "cell_type": "code",
   "execution_count": 62,
   "metadata": {},
   "outputs": [
    {
     "data": {
      "text/plain": [
       "array([[ True,  True,  True,  True,  True],\n",
       "       [ True,  True,  True,  True,  True],\n",
       "       [ True,  True,  True,  True,  True],\n",
       "       [ True,  True,  True,  True,  True],\n",
       "       [ True,  True,  True,  True,  True]])"
      ]
     },
     "execution_count": 62,
     "metadata": {},
     "output_type": "execute_result"
    }
   ],
   "source": [
    "np.logical_or(stock_change>0.5, stock_change<1)"
   ]
  },
  {
   "cell_type": "code",
   "execution_count": 63,
   "metadata": {},
   "outputs": [
    {
     "data": {
      "text/plain": [
       "array([1.1, 1.1, 1.1, 1.1, 1.1])"
      ]
     },
     "execution_count": 63,
     "metadata": {},
     "output_type": "execute_result"
    }
   ],
   "source": [
    "np.max(stock_change, axis=1)"
   ]
  },
  {
   "cell_type": "code",
   "execution_count": 64,
   "metadata": {},
   "outputs": [
    {
     "data": {
      "text/plain": [
       "array([3, 0, 1, 1, 3], dtype=int64)"
      ]
     },
     "execution_count": 64,
     "metadata": {},
     "output_type": "execute_result"
    }
   ],
   "source": [
    "np.argmax(stock_change, axis=1)"
   ]
  },
  {
   "cell_type": "code",
   "execution_count": 65,
   "metadata": {},
   "outputs": [],
   "source": [
    "arr = np.array([[1, 2, 3, 2, 1, 4], [5, 6, 1, 2, 3, 1]])"
   ]
  },
  {
   "cell_type": "code",
   "execution_count": 66,
   "metadata": {},
   "outputs": [
    {
     "data": {
      "text/plain": [
       "array([[1, 2, 3, 2, 1, 4],\n",
       "       [5, 6, 1, 2, 3, 1]])"
      ]
     },
     "execution_count": 66,
     "metadata": {},
     "output_type": "execute_result"
    }
   ],
   "source": [
    "arr"
   ]
  },
  {
   "cell_type": "code",
   "execution_count": 67,
   "metadata": {},
   "outputs": [
    {
     "data": {
      "text/plain": [
       "array([[2, 3, 4, 3, 2, 5],\n",
       "       [6, 7, 2, 3, 4, 2]])"
      ]
     },
     "execution_count": 67,
     "metadata": {},
     "output_type": "execute_result"
    }
   ],
   "source": [
    "arr +1"
   ]
  },
  {
   "cell_type": "code",
   "execution_count": 70,
   "metadata": {},
   "outputs": [
    {
     "data": {
      "text/plain": [
       "array([[1., 2., 3., 2., 1., 4.],\n",
       "       [5., 6., 1., 2., 3., 1.]])"
      ]
     },
     "execution_count": 70,
     "metadata": {},
     "output_type": "execute_result"
    }
   ],
   "source": [
    "arr / 1"
   ]
  },
  {
   "cell_type": "markdown",
   "metadata": {},
   "source": [
    "### 数组与数组运算"
   ]
  },
  {
   "cell_type": "code",
   "execution_count": 71,
   "metadata": {},
   "outputs": [],
   "source": [
    "# 广播机制\n",
    "\n",
    "# 1、维度相对\n",
    "# 2、shape（其中相对应的一个地方为1）\n",
    "arr1 = np.array([[1, 2, 3, 2, 1, 4],[5, 6, 1, 2, 3, 1]])\n",
    "arr2 = np.array([[1],[3]])"
   ]
  },
  {
   "cell_type": "code",
   "execution_count": 72,
   "metadata": {},
   "outputs": [
    {
     "data": {
      "text/plain": [
       "array([[2, 3, 4, 3, 2, 5],\n",
       "       [8, 9, 4, 5, 6, 4]])"
      ]
     },
     "execution_count": 72,
     "metadata": {},
     "output_type": "execute_result"
    }
   ],
   "source": [
    "arr1 + arr2"
   ]
  },
  {
   "cell_type": "code",
   "execution_count": 73,
   "metadata": {},
   "outputs": [
    {
     "data": {
      "text/plain": [
       "array([[ 1,  2,  3,  2,  1,  4],\n",
       "       [15, 18,  3,  6,  9,  3]])"
      ]
     },
     "execution_count": 73,
     "metadata": {},
     "output_type": "execute_result"
    }
   ],
   "source": [
    "arr1 * arr2"
   ]
  },
  {
   "cell_type": "markdown",
   "metadata": {},
   "source": [
    "### 矩阵"
   ]
  },
  {
   "cell_type": "code",
   "execution_count": 77,
   "metadata": {},
   "outputs": [],
   "source": [
    "# 矩阵 matrix ，必须是二维的\n",
    "m1 = np.array([[1,2],[3,4],[5,6]])"
   ]
  },
  {
   "cell_type": "code",
   "execution_count": 82,
   "metadata": {},
   "outputs": [
    {
     "data": {
      "text/plain": [
       "numpy.ndarray"
      ]
     },
     "execution_count": 82,
     "metadata": {},
     "output_type": "execute_result"
    }
   ],
   "source": [
    "type(m1)"
   ]
  },
  {
   "cell_type": "code",
   "execution_count": 80,
   "metadata": {},
   "outputs": [],
   "source": [
    "m2 = np.mat([[1,2],[3,4],[5,6]])"
   ]
  },
  {
   "cell_type": "code",
   "execution_count": 81,
   "metadata": {},
   "outputs": [
    {
     "data": {
      "text/plain": [
       "numpy.matrix"
      ]
     },
     "execution_count": 81,
     "metadata": {},
     "output_type": "execute_result"
    }
   ],
   "source": [
    "type(m2)"
   ]
  },
  {
   "cell_type": "markdown",
   "metadata": {},
   "source": [
    "### 矩阵乘法运算"
   ]
  },
  {
   "cell_type": "code",
   "execution_count": 86,
   "metadata": {},
   "outputs": [],
   "source": [
    "# 矩阵乘法两个关键，形状改变、运算规则\n",
    "# （m,n） * (n, l) = (m, l)\n",
    "scores = np.mat([[69,99],[80, 90], [87, 98]])\n",
    "weights = np.mat([[0.3],[0.7]])"
   ]
  },
  {
   "cell_type": "code",
   "execution_count": 87,
   "metadata": {},
   "outputs": [
    {
     "data": {
      "text/plain": [
       "matrix([[90. ],\n",
       "        [87. ],\n",
       "        [94.7]])"
      ]
     },
     "execution_count": 87,
     "metadata": {},
     "output_type": "execute_result"
    }
   ],
   "source": [
    "np.matmul(scores, weights)"
   ]
  },
  {
   "cell_type": "code",
   "execution_count": 88,
   "metadata": {},
   "outputs": [
    {
     "data": {
      "text/plain": [
       "matrix([[90. ],\n",
       "        [87. ],\n",
       "        [94.7]])"
      ]
     },
     "execution_count": 88,
     "metadata": {},
     "output_type": "execute_result"
    }
   ],
   "source": [
    "np.dot(scores, weights)"
   ]
  },
  {
   "cell_type": "code",
   "execution_count": 89,
   "metadata": {},
   "outputs": [
    {
     "data": {
      "text/plain": [
       "matrix([[90. ],\n",
       "        [87. ],\n",
       "        [94.7]])"
      ]
     },
     "execution_count": 89,
     "metadata": {},
     "output_type": "execute_result"
    }
   ],
   "source": [
    "scores * weights"
   ]
  },
  {
   "cell_type": "code",
   "execution_count": 90,
   "metadata": {},
   "outputs": [
    {
     "data": {
      "text/plain": [
       "matrix([[1.7],\n",
       "        [3.7],\n",
       "        [5.7]])"
      ]
     },
     "execution_count": 90,
     "metadata": {},
     "output_type": "execute_result"
    }
   ],
   "source": [
    "m1 @ weights"
   ]
  },
  {
   "cell_type": "code",
   "execution_count": 92,
   "metadata": {},
   "outputs": [
    {
     "data": {
      "text/plain": [
       "matrix([[1.7],\n",
       "        [3.7],\n",
       "        [5.7]])"
      ]
     },
     "execution_count": 92,
     "metadata": {},
     "output_type": "execute_result"
    }
   ],
   "source": [
    "m1 * weights"
   ]
  },
  {
   "cell_type": "markdown",
   "metadata": {},
   "source": [
    "### 合并"
   ]
  },
  {
   "cell_type": "code",
   "execution_count": 2,
   "metadata": {},
   "outputs": [
    {
     "data": {
      "text/plain": [
       "array([1, 2, 3, 2, 3, 4])"
      ]
     },
     "execution_count": 2,
     "metadata": {},
     "output_type": "execute_result"
    }
   ],
   "source": [
    "# horizontally\n",
    "\n",
    "a = np.array((1,2,3))\n",
    "b = np.array((2,3,4))\n",
    "\n",
    "np.hstack((a,b))"
   ]
  },
  {
   "cell_type": "code",
   "execution_count": 3,
   "metadata": {},
   "outputs": [
    {
     "data": {
      "text/plain": [
       "array([[1, 2, 3],\n",
       "       [2, 3, 4]])"
      ]
     },
     "execution_count": 3,
     "metadata": {},
     "output_type": "execute_result"
    }
   ],
   "source": [
    "np.vstack((a,b))"
   ]
  },
  {
   "cell_type": "code",
   "execution_count": 6,
   "metadata": {},
   "outputs": [
    {
     "data": {
      "text/plain": [
       "array([[1, 2],\n",
       "       [2, 3],\n",
       "       [3, 4]])"
      ]
     },
     "execution_count": 6,
     "metadata": {},
     "output_type": "execute_result"
    }
   ],
   "source": [
    "a = np.array([[1], [2], [3]])\n",
    "b = np.array([[2], [3], [4]])\n",
    "np.hstack((a, b))"
   ]
  },
  {
   "cell_type": "code",
   "execution_count": 7,
   "metadata": {},
   "outputs": [
    {
     "data": {
      "text/plain": [
       "array([[1],\n",
       "       [2],\n",
       "       [3],\n",
       "       [2],\n",
       "       [3],\n",
       "       [4]])"
      ]
     },
     "execution_count": 7,
     "metadata": {},
     "output_type": "execute_result"
    }
   ],
   "source": [
    "np.vstack((a, b))"
   ]
  },
  {
   "cell_type": "code",
   "execution_count": 9,
   "metadata": {},
   "outputs": [
    {
     "data": {
      "text/plain": [
       "array([[1, 2],\n",
       "       [2, 3],\n",
       "       [3, 4]])"
      ]
     },
     "execution_count": 9,
     "metadata": {},
     "output_type": "execute_result"
    }
   ],
   "source": [
    "# axis=0 行方向拼接， axis=1 列方向拼接\n",
    "np.concatenate((a,b), axis=1)"
   ]
  },
  {
   "cell_type": "markdown",
   "metadata": {},
   "source": [
    "### 分割"
   ]
  },
  {
   "cell_type": "code",
   "execution_count": 11,
   "metadata": {},
   "outputs": [],
   "source": [
    "x = np.arange(9)"
   ]
  },
  {
   "cell_type": "code",
   "execution_count": 12,
   "metadata": {},
   "outputs": [
    {
     "data": {
      "text/plain": [
       "array([0, 1, 2, 3, 4, 5, 6, 7, 8])"
      ]
     },
     "execution_count": 12,
     "metadata": {},
     "output_type": "execute_result"
    }
   ],
   "source": [
    "x"
   ]
  },
  {
   "cell_type": "code",
   "execution_count": 13,
   "metadata": {},
   "outputs": [
    {
     "data": {
      "text/plain": [
       "[array([0, 1, 2]), array([3, 4, 5]), array([6, 7, 8])]"
      ]
     },
     "execution_count": 13,
     "metadata": {},
     "output_type": "execute_result"
    }
   ],
   "source": [
    "np.split(x, 3)"
   ]
  },
  {
   "cell_type": "markdown",
   "metadata": {},
   "source": [
    "### 读取文件"
   ]
  },
  {
   "cell_type": "code",
   "execution_count": 24,
   "metadata": {},
   "outputs": [],
   "source": [
    "test = np.genfromtxt(\"test.csv\", delimiter=',')"
   ]
  },
  {
   "cell_type": "code",
   "execution_count": 25,
   "metadata": {},
   "outputs": [
    {
     "data": {
      "text/plain": [
       "array([  nan,   nan,   nan,   nan,   nan, 1550.,   nan,   nan,   nan,\n",
       "         nan])"
      ]
     },
     "execution_count": 25,
     "metadata": {},
     "output_type": "execute_result"
    }
   ],
   "source": [
    "test"
   ]
  },
  {
   "cell_type": "code",
   "execution_count": null,
   "metadata": {},
   "outputs": [],
   "source": []
  }
 ],
 "metadata": {
  "kernelspec": {
   "display_name": "Python 3",
   "language": "python",
   "name": "python3"
  },
  "language_info": {
   "codemirror_mode": {
    "name": "ipython",
    "version": 3
   },
   "file_extension": ".py",
   "mimetype": "text/x-python",
   "name": "python",
   "nbconvert_exporter": "python",
   "pygments_lexer": "ipython3",
   "version": "3.8.2"
  }
 },
 "nbformat": 4,
 "nbformat_minor": 4
}
